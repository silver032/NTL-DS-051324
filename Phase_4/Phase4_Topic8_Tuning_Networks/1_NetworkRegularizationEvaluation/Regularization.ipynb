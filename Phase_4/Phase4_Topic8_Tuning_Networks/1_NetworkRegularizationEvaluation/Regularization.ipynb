{
 "cells": [
  {
   "cell_type": "markdown",
   "metadata": {
    "slideshow": {
     "slide_type": "slide"
    }
   },
   "source": [
    "<div style=\"color:white;\n",
    "           display:fill;\n",
    "           border-radius:5px;\n",
    "           background-color:#5642C5;\n",
    "           font-size:200%;\n",
    "           font-family:Arial;letter-spacing:0.5px\">\n",
    "\n",
    "<p width = 20%, style=\"padding: 10px;\n",
    "              color:white;\">\n",
    "Neural Networks: Regularization\n",
    "</p>\n",
    "</div>\n",
    "\n",
    "DS-NTL-051324<p>Phase 4</p>\n",
    "<br>\n",
    "<br>\n",
    "\n",
    "<div align = \"right\">\n",
    "<img src=\"Images/flatiron-school-logo.png\" align = \"right\" width=\"200\"/>\n",
    "</div>\n",
    "    \n",
    "    "
   ]
  },
  {
   "cell_type": "code",
   "execution_count": 1,
   "metadata": {
    "slideshow": {
     "slide_type": "skip"
    }
   },
   "outputs": [
    {
     "name": "stderr",
     "output_type": "stream",
     "text": [
      "2024-07-22 12:36:11.178704: I tensorflow/core/platform/cpu_feature_guard.cc:193] This TensorFlow binary is optimized with oneAPI Deep Neural Network Library (oneDNN) to use the following CPU instructions in performance-critical operations:  SSE4.1 SSE4.2\n",
      "To enable them in other operations, rebuild TensorFlow with the appropriate compiler flags.\n"
     ]
    }
   ],
   "source": [
    "from sklearn.datasets import load_sample_images\n",
    "from sklearn.datasets import load_digits\n",
    "from sklearn.model_selection import train_test_split, cross_val_score\n",
    "from sklearn.preprocessing import OneHotEncoder\n",
    "from sklearn.metrics import accuracy_score, confusion_matrix\n",
    "import matplotlib.pyplot as plt\n",
    "import matplotlib.image as mpimg\n",
    "import numpy as np\n",
    "import pandas as pd\n",
    "from sklearn.metrics import ConfusionMatrixDisplay\n",
    "import seaborn as sns\n",
    "\n",
    "from tensorflow.keras import datasets\n",
    "from tensorflow.keras.models import Sequential\n",
    "from tensorflow.keras.layers import Dense, Dropout\n",
    "from tensorflow.keras.callbacks import EarlyStopping\n",
    "from tensorflow.keras.utils import to_categorical\n",
    "from tensorflow.keras.layers import Flatten # takes 2D input and turns into 1D array\n",
    "\n",
    "\n",
    "import tensorflow as tf\n",
    "\n",
    "#Set the global random seed\n",
    "tf.random.set_seed(42)\n"
   ]
  },
  {
   "cell_type": "markdown",
   "metadata": {
    "slideshow": {
     "slide_type": "slide"
    }
   },
   "source": [
    "### Things to remember:\n"
   ]
  },
  {
   "cell_type": "markdown",
   "metadata": {
    "slideshow": {
     "slide_type": "fragment"
    }
   },
   "source": [
    "## STEPS ##\n",
    "\n",
    "1. Load Data\n",
    "2. Define Keras Model\n",
    "3. Compile Keras Model\n",
    "4. Fit Keras Model\n",
    "5. Evaluate Keras Model\n",
    "6. Make Predictions"
   ]
  },
  {
   "cell_type": "markdown",
   "metadata": {
    "slideshow": {
     "slide_type": "slide"
    }
   },
   "source": [
    "\n",
    "- The data and labels in `fit()` need to be numpy arrays, not `pandas` dfs.\n",
    "- Scaling your data will have a large impact on your model.\n",
    "   > For our traditional input features, we would use a scaler object. For images, as long as the minimum value is 0, we can simply divide through by the maximum pixel intensity."
   ]
  },
  {
   "cell_type": "markdown",
   "metadata": {
    "slideshow": {
     "slide_type": "slide"
    }
   },
   "source": [
    "#### Regularization\n",
    "- Retain complexity of neural network: many weights to learn interesting relationships\n",
    "- Make our weights less susceptible to overfitting\n",
    "\n",
    "**Getting neural networks to perform really well**"
   ]
  },
  {
   "cell_type": "markdown",
   "metadata": {
    "slideshow": {
     "slide_type": "slide"
    }
   },
   "source": [
    "In neural networks, two main forms of regularization:\n",
    "- L2 Regularization (something familiar)\n",
    "- Dropout Regularization (something a little new)"
   ]
  },
  {
   "cell_type": "markdown",
   "metadata": {
    "slideshow": {
     "slide_type": "slide"
    }
   },
   "source": [
    "**L2 Regularization**\n",
    "\n",
    "- Add penalty on weight **matrices**.\n",
    "$$ J \\rightarrow J' $$\n",
    "$$ J = \\sum_{i=1}^m \\frac{1}{m}L(y_i, \\hat{y}_i) $$\n",
    "$$ J' = \\sum_{i=1}^m \\frac{1}{m}L(y_i, \\hat{y}_i) + \\frac{\\lambda}{2} \\sum_{l=1}^L \\lVert  W^{[l]}   \\rVert_F^2 $$"
   ]
  },
  {
   "cell_type": "markdown",
   "metadata": {
    "slideshow": {
     "slide_type": "fragment"
    }
   },
   "source": [
    "where $F$ denotes the Frobenius norm."
   ]
  },
  {
   "cell_type": "markdown",
   "metadata": {
    "cell_style": "center",
    "slideshow": {
     "slide_type": "slide"
    }
   },
   "source": [
    "Frobenius norm is square root of sum of of element-wise square:\n",
    "i.e. \n",
    "$$ \\lVert  A   \\rVert_F = \\sqrt{\\sum_{i,j} A_{ij}^2 }$$"
   ]
  },
  {
   "cell_type": "code",
   "execution_count": 2,
   "metadata": {
    "slideshow": {
     "slide_type": "fragment"
    }
   },
   "outputs": [],
   "source": [
    "import numpy as np\n",
    "from numpy.linalg import norm"
   ]
  },
  {
   "cell_type": "code",
   "execution_count": 3,
   "metadata": {
    "cell_style": "split",
    "slideshow": {
     "slide_type": "fragment"
    }
   },
   "outputs": [
    {
     "data": {
      "text/plain": [
       "array([[1, 2],\n",
       "       [0, 3]])"
      ]
     },
     "execution_count": 3,
     "metadata": {},
     "output_type": "execute_result"
    }
   ],
   "source": [
    "A = np.array([[1,2],[0,3]])\n",
    "A"
   ]
  },
  {
   "cell_type": "code",
   "execution_count": 4,
   "metadata": {
    "cell_style": "split",
    "slideshow": {
     "slide_type": "fragment"
    }
   },
   "outputs": [
    {
     "data": {
      "text/plain": [
       "3.7416573867739413"
      ]
     },
     "execution_count": 4,
     "metadata": {},
     "output_type": "execute_result"
    }
   ],
   "source": [
    "norm(A, 'fro')"
   ]
  },
  {
   "cell_type": "code",
   "execution_count": 5,
   "metadata": {
    "cell_style": "split",
    "slideshow": {
     "slide_type": "fragment"
    }
   },
   "outputs": [
    {
     "data": {
      "text/plain": [
       "3.7416573867739413"
      ]
     },
     "execution_count": 5,
     "metadata": {},
     "output_type": "execute_result"
    }
   ],
   "source": [
    "np.sqrt(1**2 + 0**2 + 2**2 + 3**2)"
   ]
  },
  {
   "cell_type": "markdown",
   "metadata": {
    "cell_style": "center",
    "slideshow": {
     "slide_type": "slide"
    }
   },
   "source": [
    "Modiied objective functon:\n",
    "\n",
    "$$ J' = \\sum_{i=1}^m \\frac{1}{m}L(y_i, \\hat{y}_i) + \\frac{\\lambda}{2} \\sum_{l=1}^L \\lVert  W^{[l]}   \\rVert_F^2 $$"
   ]
  },
  {
   "cell_type": "markdown",
   "metadata": {
    "cell_style": "center",
    "slideshow": {
     "slide_type": "fragment"
    }
   },
   "source": [
    "Regularization serves to penalize any particular weight from being too large:\n",
    "- smoothens/redistributes weights for each weight matrix\n",
    "- aids in generalization"
   ]
  },
  {
   "cell_type": "markdown",
   "metadata": {
    "cell_style": "center",
    "slideshow": {
     "slide_type": "slide"
    }
   },
   "source": [
    "L2 regularization: often known as weight decay\n",
    "- Perspective: gradient descent\n",
    "$$ J' = \\sum_{i=1}^m \\frac{1}{m}L(y_i, \\hat{y}_i) + \\frac{\\lambda}{2} \\sum_{l=1}^L \\lVert  W^{[l]}   \\rVert_F^2 $$\n",
    "$$ W^{[l]} \\rightarrow W^{[l]} - \\alpha \\frac{\\partial J'}{\\partial W^{[l]}} $$ "
   ]
  },
  {
   "cell_type": "markdown",
   "metadata": {
    "cell_style": "center",
    "slideshow": {
     "slide_type": "slide"
    }
   },
   "source": [
    "$$ J = \\sum_{i=1}^m \\frac{1}{m}L(y_i, \\hat{y}_i) $$\n",
    "$$ W^{[l]} \\rightarrow \\Big(W^{[l]}  - \\alpha \\frac{\\lambda}{2 m}  W^{[l]} \\Big) - \\alpha \\frac{\\partial J}{\\partial W^{[l]}}$$ \n",
    "\n",
    "- At each iteration regularization tries to reduce magnitude of weight matrix."
   ]
  },
  {
   "cell_type": "markdown",
   "metadata": {
    "slideshow": {
     "slide_type": "slide"
    }
   },
   "source": [
    "#### Implementing L2 regularization in Keras"
   ]
  },
  {
   "cell_type": "code",
   "execution_count": 6,
   "metadata": {
    "slideshow": {
     "slide_type": "fragment"
    }
   },
   "outputs": [],
   "source": [
    "# creates keras regularizer object\n",
    "from tensorflow.keras.regularizers import l2"
   ]
  },
  {
   "cell_type": "markdown",
   "metadata": {
    "cell_style": "center",
    "slideshow": {
     "slide_type": "slide"
    }
   },
   "source": [
    "L2 regularizer object takes in $\\lambda$ parameter as argument"
   ]
  },
  {
   "cell_type": "code",
   "execution_count": 7,
   "metadata": {
    "cell_style": "center",
    "slideshow": {
     "slide_type": "fragment"
    }
   },
   "outputs": [],
   "source": [
    "reg = l2(3e-3) # 1e-5 to .1"
   ]
  },
  {
   "cell_type": "markdown",
   "metadata": {
    "cell_style": "center",
    "slideshow": {
     "slide_type": "slide"
    }
   },
   "source": [
    "Implementing regularization to weights in Keras:\n",
    "- Dense(kernel_regularizer = __)\n",
    "- takes in string ('l2') or regularizer object"
   ]
  },
  {
   "cell_type": "markdown",
   "metadata": {
    "cell_style": "center",
    "slideshow": {
     "slide_type": "fragment"
    }
   },
   "source": [
    "Less common but also used:\n",
    "\n",
    "- can apply regularization to bias terms \n",
    "- Dense(bias_regularizer = __)"
   ]
  },
  {
   "cell_type": "code",
   "execution_count": 8,
   "metadata": {
    "slideshow": {
     "slide_type": "slide"
    }
   },
   "outputs": [],
   "source": [
    "# load in the data\n",
    "(x_train, y_train), (x_test, y_test) = datasets.mnist.load_data()\n",
    "\n",
    "x_train = x_train/255 # normalization\n",
    "x_test = x_test/255\n",
    "\n",
    "# Keras requires multi-class labels to be one-hot encoded\n",
    "y_tr_one_hot = to_categorical(y_train)\n",
    "y_tt_one_hot = to_categorical(y_test)"
   ]
  },
  {
   "cell_type": "code",
   "execution_count": 9,
   "metadata": {
    "slideshow": {
     "slide_type": "slide"
    }
   },
   "outputs": [
    {
     "name": "stderr",
     "output_type": "stream",
     "text": [
      "2024-07-22 12:36:14.027569: I tensorflow/core/platform/cpu_feature_guard.cc:193] This TensorFlow binary is optimized with oneAPI Deep Neural Network Library (oneDNN) to use the following CPU instructions in performance-critical operations:  SSE4.1 SSE4.2\n",
      "To enable them in other operations, rebuild TensorFlow with the appropriate compiler flags.\n"
     ]
    }
   ],
   "source": [
    "model_images = Sequential()\n",
    "model_images.add(Flatten(input_shape=(28, 28))) # flattens each 28x28 image into a vector\n",
    "model_images.add(Dense(32, activation='relu', kernel_regularizer = reg)) # take in regularizer\n",
    "model_images.add(Dense(8, activation='relu', kernel_regularizer = reg))\n",
    "model_images.add(Dense(10, activation='softmax')) # number of units = number of target classes"
   ]
  },
  {
   "cell_type": "code",
   "execution_count": 10,
   "metadata": {
    "slideshow": {
     "slide_type": "fragment"
    }
   },
   "outputs": [],
   "source": [
    "model_images.compile(optimizer='Adam', loss='categorical_crossentropy', metrics=['accuracy'] )"
   ]
  },
  {
   "cell_type": "code",
   "execution_count": 11,
   "metadata": {
    "slideshow": {
     "slide_type": "slide"
    }
   },
   "outputs": [
    {
     "name": "stdout",
     "output_type": "stream",
     "text": [
      "Epoch 1/50\n",
      "1500/1500 [==============================] - 2s 1ms/step - loss: 0.7186 - accuracy: 0.8355 - val_loss: 0.4659 - val_accuracy: 0.9179\n",
      "Epoch 2/50\n",
      "1500/1500 [==============================] - 2s 1ms/step - loss: 0.4387 - accuracy: 0.9227 - val_loss: 0.3962 - val_accuracy: 0.9342\n",
      "Epoch 3/50\n",
      "1500/1500 [==============================] - 2s 1ms/step - loss: 0.3916 - accuracy: 0.9337 - val_loss: 0.3609 - val_accuracy: 0.9433\n",
      "Epoch 4/50\n",
      "1500/1500 [==============================] - 2s 1ms/step - loss: 0.3618 - accuracy: 0.9392 - val_loss: 0.3499 - val_accuracy: 0.9408\n",
      "Epoch 5/50\n",
      "1500/1500 [==============================] - 2s 1ms/step - loss: 0.3419 - accuracy: 0.9455 - val_loss: 0.3235 - val_accuracy: 0.9516\n",
      "Epoch 6/50\n",
      "1500/1500 [==============================] - 2s 1ms/step - loss: 0.3249 - accuracy: 0.9479 - val_loss: 0.3091 - val_accuracy: 0.9534\n",
      "Epoch 7/50\n",
      "1500/1500 [==============================] - 2s 1ms/step - loss: 0.3118 - accuracy: 0.9513 - val_loss: 0.2991 - val_accuracy: 0.9547\n",
      "Epoch 8/50\n",
      "1500/1500 [==============================] - 2s 1ms/step - loss: 0.3034 - accuracy: 0.9519 - val_loss: 0.2995 - val_accuracy: 0.9537\n",
      "Epoch 9/50\n",
      "1500/1500 [==============================] - 2s 1ms/step - loss: 0.2938 - accuracy: 0.9533 - val_loss: 0.2809 - val_accuracy: 0.9564\n",
      "Epoch 10/50\n",
      "1500/1500 [==============================] - 2s 1ms/step - loss: 0.2856 - accuracy: 0.9546 - val_loss: 0.2830 - val_accuracy: 0.9547\n",
      "Epoch 11/50\n",
      "1500/1500 [==============================] - 2s 1ms/step - loss: 0.2791 - accuracy: 0.9548 - val_loss: 0.2675 - val_accuracy: 0.9601\n",
      "Epoch 12/50\n",
      "1500/1500 [==============================] - 2s 1ms/step - loss: 0.2702 - accuracy: 0.9575 - val_loss: 0.2636 - val_accuracy: 0.9607\n",
      "Epoch 13/50\n",
      "1500/1500 [==============================] - 2s 1ms/step - loss: 0.2637 - accuracy: 0.9586 - val_loss: 0.2734 - val_accuracy: 0.9541\n",
      "Epoch 14/50\n",
      "1500/1500 [==============================] - 2s 1ms/step - loss: 0.2602 - accuracy: 0.9592 - val_loss: 0.2631 - val_accuracy: 0.9587\n",
      "Epoch 15/50\n",
      "1500/1500 [==============================] - 2s 1ms/step - loss: 0.2561 - accuracy: 0.9592 - val_loss: 0.2467 - val_accuracy: 0.9632\n",
      "Epoch 16/50\n",
      "1500/1500 [==============================] - 2s 1ms/step - loss: 0.2515 - accuracy: 0.9603 - val_loss: 0.2605 - val_accuracy: 0.9582\n",
      "Epoch 17/50\n",
      "1500/1500 [==============================] - 2s 1ms/step - loss: 0.2473 - accuracy: 0.9604 - val_loss: 0.2468 - val_accuracy: 0.9610\n",
      "Epoch 18/50\n",
      "1500/1500 [==============================] - 2s 1ms/step - loss: 0.2429 - accuracy: 0.9615 - val_loss: 0.2480 - val_accuracy: 0.9606\n",
      "Epoch 19/50\n",
      "1500/1500 [==============================] - 2s 1ms/step - loss: 0.2401 - accuracy: 0.9616 - val_loss: 0.2574 - val_accuracy: 0.9575\n",
      "Epoch 20/50\n",
      "1500/1500 [==============================] - 2s 1ms/step - loss: 0.2380 - accuracy: 0.9621 - val_loss: 0.2403 - val_accuracy: 0.9640\n",
      "Epoch 21/50\n",
      "1500/1500 [==============================] - 2s 1ms/step - loss: 0.2348 - accuracy: 0.9634 - val_loss: 0.2623 - val_accuracy: 0.9547\n",
      "Epoch 22/50\n",
      "1500/1500 [==============================] - 2s 1ms/step - loss: 0.2338 - accuracy: 0.9625 - val_loss: 0.2375 - val_accuracy: 0.9621\n",
      "Epoch 23/50\n",
      "1500/1500 [==============================] - 2s 1ms/step - loss: 0.2304 - accuracy: 0.9627 - val_loss: 0.2538 - val_accuracy: 0.9580\n",
      "Epoch 24/50\n",
      "1500/1500 [==============================] - 2s 1ms/step - loss: 0.2280 - accuracy: 0.9631 - val_loss: 0.2447 - val_accuracy: 0.9592\n",
      "Epoch 25/50\n",
      "1500/1500 [==============================] - 2s 1ms/step - loss: 0.2285 - accuracy: 0.9631 - val_loss: 0.2531 - val_accuracy: 0.9573\n",
      "Epoch 26/50\n",
      "1500/1500 [==============================] - 2s 1ms/step - loss: 0.2253 - accuracy: 0.9639 - val_loss: 0.2705 - val_accuracy: 0.9469\n",
      "Epoch 27/50\n",
      "1500/1500 [==============================] - 2s 1ms/step - loss: 0.2227 - accuracy: 0.9635 - val_loss: 0.2320 - val_accuracy: 0.9602\n",
      "Epoch 28/50\n",
      "1500/1500 [==============================] - 2s 1ms/step - loss: 0.2230 - accuracy: 0.9635 - val_loss: 0.2243 - val_accuracy: 0.9635\n",
      "Epoch 29/50\n",
      "1500/1500 [==============================] - 2s 1ms/step - loss: 0.2195 - accuracy: 0.9655 - val_loss: 0.2274 - val_accuracy: 0.9621\n",
      "Epoch 30/50\n",
      "1500/1500 [==============================] - 2s 1ms/step - loss: 0.2195 - accuracy: 0.9639 - val_loss: 0.2240 - val_accuracy: 0.9622\n",
      "Epoch 31/50\n",
      "1500/1500 [==============================] - 2s 1ms/step - loss: 0.2180 - accuracy: 0.9652 - val_loss: 0.2203 - val_accuracy: 0.9653\n",
      "Epoch 32/50\n",
      "1500/1500 [==============================] - 2s 1ms/step - loss: 0.2184 - accuracy: 0.9639 - val_loss: 0.2320 - val_accuracy: 0.9606\n",
      "Epoch 33/50\n",
      "1500/1500 [==============================] - 2s 1ms/step - loss: 0.2141 - accuracy: 0.9651 - val_loss: 0.2350 - val_accuracy: 0.9582\n",
      "Epoch 34/50\n",
      "1500/1500 [==============================] - 2s 1ms/step - loss: 0.2167 - accuracy: 0.9643 - val_loss: 0.2289 - val_accuracy: 0.9609\n",
      "Epoch 35/50\n",
      "1500/1500 [==============================] - 2s 1ms/step - loss: 0.2123 - accuracy: 0.9653 - val_loss: 0.2109 - val_accuracy: 0.9667\n",
      "Epoch 36/50\n",
      "1500/1500 [==============================] - 2s 1ms/step - loss: 0.2122 - accuracy: 0.9657 - val_loss: 0.2190 - val_accuracy: 0.9654\n",
      "Epoch 37/50\n",
      "1500/1500 [==============================] - 2s 1ms/step - loss: 0.2107 - accuracy: 0.9656 - val_loss: 0.2265 - val_accuracy: 0.9628\n",
      "Epoch 38/50\n",
      "1500/1500 [==============================] - 2s 1ms/step - loss: 0.2107 - accuracy: 0.9649 - val_loss: 0.2272 - val_accuracy: 0.9614\n",
      "Epoch 39/50\n",
      "1500/1500 [==============================] - 2s 1ms/step - loss: 0.2095 - accuracy: 0.9646 - val_loss: 0.2399 - val_accuracy: 0.9553\n",
      "Epoch 40/50\n",
      "1500/1500 [==============================] - 2s 1ms/step - loss: 0.2104 - accuracy: 0.9647 - val_loss: 0.2229 - val_accuracy: 0.9631\n",
      "Epoch 41/50\n",
      "1500/1500 [==============================] - 2s 1ms/step - loss: 0.2093 - accuracy: 0.9644 - val_loss: 0.2122 - val_accuracy: 0.9649\n",
      "Epoch 42/50\n",
      "1500/1500 [==============================] - 2s 1ms/step - loss: 0.2077 - accuracy: 0.9655 - val_loss: 0.2333 - val_accuracy: 0.9578\n",
      "Epoch 43/50\n",
      "1500/1500 [==============================] - 2s 1ms/step - loss: 0.2076 - accuracy: 0.9646 - val_loss: 0.2275 - val_accuracy: 0.9572\n",
      "Epoch 44/50\n",
      "1500/1500 [==============================] - 2s 1ms/step - loss: 0.2050 - accuracy: 0.9665 - val_loss: 0.2381 - val_accuracy: 0.9570\n",
      "Epoch 45/50\n",
      "1500/1500 [==============================] - 2s 1ms/step - loss: 0.2066 - accuracy: 0.9648 - val_loss: 0.2104 - val_accuracy: 0.9649\n",
      "Epoch 46/50\n",
      "1500/1500 [==============================] - 2s 1ms/step - loss: 0.2050 - accuracy: 0.9662 - val_loss: 0.2303 - val_accuracy: 0.9582\n",
      "Epoch 47/50\n",
      "1500/1500 [==============================] - 2s 1ms/step - loss: 0.2044 - accuracy: 0.9654 - val_loss: 0.2112 - val_accuracy: 0.9641\n",
      "Epoch 48/50\n",
      "1500/1500 [==============================] - 2s 1ms/step - loss: 0.2059 - accuracy: 0.9652 - val_loss: 0.2020 - val_accuracy: 0.9668\n",
      "Epoch 49/50\n",
      "1500/1500 [==============================] - 2s 1ms/step - loss: 0.2021 - accuracy: 0.9658 - val_loss: 0.2175 - val_accuracy: 0.9604\n",
      "Epoch 50/50\n",
      "1500/1500 [==============================] - 2s 1ms/step - loss: 0.2031 - accuracy: 0.9659 - val_loss: 0.2176 - val_accuracy: 0.9625\n"
     ]
    }
   ],
   "source": [
    "# verbose=1 allows you to see the output.\n",
    "# To see only the metrics at the end of each epoch, set verbose=2.\n",
    "history_mnist = model_images.fit(x_train, y_tr_one_hot, epochs=50, batch_size= 32, validation_split = 0.2)"
   ]
  },
  {
   "cell_type": "code",
   "execution_count": 12,
   "metadata": {
    "cell_style": "center",
    "slideshow": {
     "slide_type": "slide"
    }
   },
   "outputs": [
    {
     "name": "stdout",
     "output_type": "stream",
     "text": [
      "313/313 [==============================] - 0s 578us/step\n"
     ]
    },
    {
     "data": {
      "text/plain": [
       "array([[1.0839653e-06, 4.5408769e-06, 6.9474088e-05, ..., 9.9972886e-01,\n",
       "        1.2763467e-06, 1.0372559e-04],\n",
       "       [5.9648362e-05, 6.7086815e-04, 9.9778348e-01, ..., 6.4494336e-05,\n",
       "        4.3935748e-04, 2.5806084e-09],\n",
       "       [4.8379438e-06, 9.9732047e-01, 9.2139695e-04, ..., 6.4529269e-04,\n",
       "        5.5237650e-04, 2.5058824e-07],\n",
       "       ...,\n",
       "       [4.4539540e-08, 2.1361495e-05, 2.5899581e-08, ..., 1.0015470e-04,\n",
       "        1.3418723e-05, 4.2957012e-03],\n",
       "       [1.8268158e-05, 1.8223544e-05, 3.0427410e-07, ..., 1.6867857e-06,\n",
       "        1.5132347e-03, 5.2182679e-07],\n",
       "       [4.8223181e-05, 5.3158473e-09, 2.3723698e-04, ..., 2.0170601e-09,\n",
       "        4.0468922e-09, 7.3305995e-10]], dtype=float32)"
      ]
     },
     "execution_count": 12,
     "metadata": {},
     "output_type": "execute_result"
    }
   ],
   "source": [
    "# probability for each class\n",
    "y_proba = model_images.predict(x_test)\n",
    "y_proba"
   ]
  },
  {
   "cell_type": "code",
   "execution_count": 13,
   "metadata": {
    "cell_style": "center",
    "slideshow": {
     "slide_type": "fragment"
    }
   },
   "outputs": [
    {
     "name": "stdout",
     "output_type": "stream",
     "text": [
      "313/313 - 0s - loss: 0.2120 - accuracy: 0.9630 - 260ms/epoch - 831us/step\n"
     ]
    },
    {
     "data": {
      "text/plain": [
       "[0.21202737092971802, 0.9629999995231628]"
      ]
     },
     "execution_count": 13,
     "metadata": {},
     "output_type": "execute_result"
    }
   ],
   "source": [
    "model_images.evaluate(x_test, y_tt_one_hot, verbose = 2)"
   ]
  },
  {
   "cell_type": "code",
   "execution_count": 14,
   "metadata": {
    "cell_style": "center",
    "slideshow": {
     "slide_type": "slide"
    }
   },
   "outputs": [
    {
     "data": {
      "image/png": "[encoded data removed]",
      "text/plain": [
       "<Figure size 640x480 with 1 Axes>"
      ]
     },
     "metadata": {},
     "output_type": "display_data"
    }
   ],
   "source": [
    "train_mnist_history = pd.DataFrame(history_mnist.history)\n",
    "train_mnist_history.index.name = 'epochs'\n",
    "\n",
    "col_list = ['loss', 'val_loss']\n",
    "train_mnist_history[col_list].plot()\n",
    "plt.ylabel('Categorical cross entropy')\n",
    "plt.title('Training loss history')\n",
    "plt.show()"
   ]
  },
  {
   "cell_type": "code",
   "execution_count": 15,
   "metadata": {
    "cell_style": "split",
    "slideshow": {
     "slide_type": "slide"
    }
   },
   "outputs": [
    {
     "data": {
      "image/png": "[encoded data removed]",
      "text/plain": [
       "<Figure size 640x480 with 1 Axes>"
      ]
     },
     "metadata": {},
     "output_type": "display_data"
    }
   ],
   "source": [
    "col_list = ['accuracy', 'val_accuracy']\n",
    "train_mnist_history[col_list].plot()\n",
    "plt.ylabel('Accuracy')\n",
    "plt.title('Training loss history')\n",
    "plt.show()"
   ]
  },
  {
   "cell_type": "markdown",
   "metadata": {
    "cell_style": "split",
    "slideshow": {
     "slide_type": "fragment"
    }
   },
   "source": [
    "Better validation accuracy:\n",
    "- 94.5\\% to 96.3\\% with regularization\n",
    "- no overfitting"
   ]
  },
  {
   "cell_type": "code",
   "execution_count": 16,
   "metadata": {
    "slideshow": {
     "slide_type": "slide"
    }
   },
   "outputs": [
    {
     "data": {
      "text/plain": [
       "array([7, 2, 1, ..., 4, 5, 6])"
      ]
     },
     "execution_count": 16,
     "metadata": {},
     "output_type": "execute_result"
    }
   ],
   "source": [
    "# argmax axis = -1 gets the column index of maximum probability for each row.\n",
    "# column index corresponds to digit classes (numbers 0 -9)\n",
    "predicted = np.argmax(y_proba, axis=-1)\n",
    "predicted"
   ]
  },
  {
   "cell_type": "code",
   "execution_count": 17,
   "metadata": {
    "cell_style": "center",
    "scrolled": false,
    "slideshow": {
     "slide_type": "slide"
    }
   },
   "outputs": [
    {
     "data": {
      "image/png": "[encoded data removed]",
      "text/plain": [
       "<Figure size 640x480 with 2 Axes>"
      ]
     },
     "metadata": {},
     "output_type": "display_data"
    }
   ],
   "source": [
    "cm_digits = confusion_matrix(y_test, predicted)\n",
    "disp = ConfusionMatrixDisplay(\n",
    "    confusion_matrix=cm_digits)\n",
    "\n",
    "disp.plot(cmap=plt.cm.Blues)\n",
    "plt.show()"
   ]
  },
  {
   "cell_type": "markdown",
   "metadata": {
    "slideshow": {
     "slide_type": "slide"
    }
   },
   "source": [
    "Regularization: \n",
    "- key component to training deeper networks (tend to overfit without regularization)\n",
    "- learn higher order features, but don't overtrain on specifics."
   ]
  },
  {
   "cell_type": "code",
   "execution_count": 18,
   "metadata": {
    "slideshow": {
     "slide_type": "fragment"
    }
   },
   "outputs": [],
   "source": [
    "deepermodel_images = Sequential()\n",
    "deepermodel_images.add(Flatten(input_shape=(28, 28))) # flattens each 28x28 image into a vector\n",
    "deepermodel_images.add(Dense(32, activation='relu', kernel_regularizer = reg)) # take in regularizer\n",
    "deepermodel_images.add(Dense(16, activation='relu', kernel_regularizer = reg)) # add another layer\n",
    "deepermodel_images.add(Dense(16, activation='relu', kernel_regularizer = reg)) # add another layer\n",
    "deepermodel_images.add(Dense(10, activation='relu', kernel_regularizer = reg))\n",
    "deepermodel_images.add(Dense(10, activation='softmax')) # number of units = number of target classes\n",
    "\n",
    "deepermodel_images.compile(optimizer='Adam', loss='categorical_crossentropy', metrics=['accuracy'] )"
   ]
  },
  {
   "cell_type": "code",
   "execution_count": 19,
   "metadata": {
    "scrolled": true,
    "slideshow": {
     "slide_type": "slide"
    }
   },
   "outputs": [
    {
     "name": "stdout",
     "output_type": "stream",
     "text": [
      "Epoch 1/200\n",
      "1500/1500 [==============================] - 2s 1ms/step - loss: 0.7717 - accuracy: 0.8378 - val_loss: 0.5347 - val_accuracy: 0.9107\n",
      "Epoch 2/200\n",
      "1500/1500 [==============================] - 2s 1ms/step - loss: 0.4850 - accuracy: 0.9248 - val_loss: 0.4461 - val_accuracy: 0.9351\n",
      "Epoch 3/200\n",
      "1500/1500 [==============================] - 2s 1ms/step - loss: 0.4301 - accuracy: 0.9371 - val_loss: 0.4057 - val_accuracy: 0.9448\n",
      "Epoch 4/200\n",
      "1500/1500 [==============================] - 2s 1ms/step - loss: 0.3966 - accuracy: 0.9438 - val_loss: 0.3917 - val_accuracy: 0.9453\n",
      "Epoch 5/200\n",
      "1500/1500 [==============================] - 2s 1ms/step - loss: 0.3770 - accuracy: 0.9465 - val_loss: 0.3644 - val_accuracy: 0.9508\n",
      "Epoch 6/200\n",
      "1500/1500 [==============================] - 2s 1ms/step - loss: 0.3620 - accuracy: 0.9489 - val_loss: 0.3512 - val_accuracy: 0.9522\n",
      "Epoch 7/200\n",
      "1500/1500 [==============================] - 2s 1ms/step - loss: 0.3477 - accuracy: 0.9515 - val_loss: 0.3487 - val_accuracy: 0.9503\n",
      "Epoch 8/200\n",
      "1500/1500 [==============================] - 2s 1ms/step - loss: 0.3393 - accuracy: 0.9532 - val_loss: 0.3459 - val_accuracy: 0.9526\n",
      "Epoch 9/200\n",
      "1500/1500 [==============================] - 2s 1ms/step - loss: 0.3313 - accuracy: 0.9547 - val_loss: 0.3285 - val_accuracy: 0.9546\n",
      "Epoch 10/200\n",
      "1500/1500 [==============================] - 2s 1ms/step - loss: 0.3250 - accuracy: 0.9552 - val_loss: 0.3150 - val_accuracy: 0.9586\n",
      "Epoch 11/200\n",
      "1500/1500 [==============================] - 2s 1ms/step - loss: 0.3155 - accuracy: 0.9575 - val_loss: 0.3078 - val_accuracy: 0.9607\n",
      "Epoch 12/200\n",
      "1500/1500 [==============================] - 2s 1ms/step - loss: 0.3106 - accuracy: 0.9573 - val_loss: 0.3331 - val_accuracy: 0.9503\n",
      "Epoch 13/200\n",
      "1500/1500 [==============================] - 2s 1ms/step - loss: 0.3071 - accuracy: 0.9571 - val_loss: 0.3187 - val_accuracy: 0.9547\n",
      "Epoch 14/200\n",
      "1500/1500 [==============================] - 2s 1ms/step - loss: 0.3037 - accuracy: 0.9572 - val_loss: 0.3027 - val_accuracy: 0.9581\n",
      "Epoch 15/200\n",
      "1500/1500 [==============================] - 2s 1ms/step - loss: 0.2974 - accuracy: 0.9585 - val_loss: 0.2889 - val_accuracy: 0.9608\n",
      "Epoch 16/200\n",
      "1500/1500 [==============================] - 2s 1ms/step - loss: 0.2948 - accuracy: 0.9594 - val_loss: 0.3094 - val_accuracy: 0.9559\n",
      "Epoch 17/200\n",
      "1500/1500 [==============================] - 2s 1ms/step - loss: 0.2934 - accuracy: 0.9595 - val_loss: 0.2904 - val_accuracy: 0.9607\n",
      "Epoch 18/200\n",
      "1500/1500 [==============================] - 2s 1ms/step - loss: 0.2869 - accuracy: 0.9605 - val_loss: 0.2862 - val_accuracy: 0.9607\n",
      "Epoch 19/200\n",
      "1500/1500 [==============================] - 2s 1ms/step - loss: 0.2874 - accuracy: 0.9595 - val_loss: 0.3091 - val_accuracy: 0.9545\n",
      "Epoch 20/200\n",
      "1500/1500 [==============================] - 2s 1ms/step - loss: 0.2841 - accuracy: 0.9595 - val_loss: 0.2953 - val_accuracy: 0.9555\n",
      "Epoch 21/200\n",
      "1500/1500 [==============================] - 2s 1ms/step - loss: 0.2797 - accuracy: 0.9604 - val_loss: 0.3063 - val_accuracy: 0.9541\n",
      "Epoch 22/200\n",
      "1500/1500 [==============================] - 2s 1ms/step - loss: 0.2817 - accuracy: 0.9596 - val_loss: 0.2972 - val_accuracy: 0.9559\n",
      "Epoch 23/200\n",
      "1500/1500 [==============================] - 2s 1ms/step - loss: 0.2753 - accuracy: 0.9614 - val_loss: 0.3069 - val_accuracy: 0.9520\n",
      "Epoch 24/200\n",
      "1500/1500 [==============================] - 2s 1ms/step - loss: 0.2743 - accuracy: 0.9611 - val_loss: 0.2693 - val_accuracy: 0.9644\n",
      "Epoch 25/200\n",
      "1500/1500 [==============================] - 2s 1ms/step - loss: 0.2735 - accuracy: 0.9614 - val_loss: 0.2782 - val_accuracy: 0.9617\n",
      "Epoch 26/200\n",
      "1500/1500 [==============================] - 2s 1ms/step - loss: 0.2697 - accuracy: 0.9624 - val_loss: 0.3067 - val_accuracy: 0.9522\n",
      "Epoch 27/200\n",
      "1500/1500 [==============================] - 2s 1ms/step - loss: 0.2691 - accuracy: 0.9623 - val_loss: 0.2696 - val_accuracy: 0.9603\n",
      "Epoch 28/200\n",
      "1500/1500 [==============================] - 2s 1ms/step - loss: 0.2687 - accuracy: 0.9617 - val_loss: 0.2651 - val_accuracy: 0.9639\n",
      "Epoch 29/200\n",
      "1500/1500 [==============================] - 2s 1ms/step - loss: 0.2670 - accuracy: 0.9609 - val_loss: 0.2714 - val_accuracy: 0.9610\n",
      "Epoch 30/200\n",
      "1500/1500 [==============================] - 2s 1ms/step - loss: 0.2663 - accuracy: 0.9619 - val_loss: 0.2702 - val_accuracy: 0.9604\n",
      "Epoch 31/200\n",
      "1500/1500 [==============================] - 2s 1ms/step - loss: 0.2639 - accuracy: 0.9624 - val_loss: 0.2633 - val_accuracy: 0.9631\n",
      "Epoch 32/200\n",
      "1500/1500 [==============================] - 2s 1ms/step - loss: 0.2638 - accuracy: 0.9622 - val_loss: 0.2668 - val_accuracy: 0.9605\n",
      "Epoch 33/200\n",
      "1500/1500 [==============================] - 2s 1ms/step - loss: 0.2633 - accuracy: 0.9613 - val_loss: 0.2771 - val_accuracy: 0.9599\n",
      "Epoch 34/200\n",
      "1500/1500 [==============================] - 2s 1ms/step - loss: 0.2597 - accuracy: 0.9623 - val_loss: 0.2747 - val_accuracy: 0.9609\n",
      "Epoch 35/200\n",
      "1500/1500 [==============================] - 2s 1ms/step - loss: 0.2579 - accuracy: 0.9634 - val_loss: 0.2582 - val_accuracy: 0.9639\n",
      "Epoch 36/200\n",
      "1500/1500 [==============================] - 2s 1ms/step - loss: 0.2574 - accuracy: 0.9620 - val_loss: 0.2527 - val_accuracy: 0.9643\n",
      "Epoch 37/200\n",
      "1500/1500 [==============================] - 2s 1ms/step - loss: 0.2559 - accuracy: 0.9633 - val_loss: 0.2585 - val_accuracy: 0.9640\n",
      "Epoch 38/200\n",
      "1500/1500 [==============================] - 2s 1ms/step - loss: 0.2533 - accuracy: 0.9629 - val_loss: 0.2648 - val_accuracy: 0.9607\n",
      "Epoch 39/200\n",
      "1500/1500 [==============================] - 2s 1ms/step - loss: 0.2545 - accuracy: 0.9624 - val_loss: 0.2604 - val_accuracy: 0.9614\n",
      "Epoch 40/200\n",
      "1500/1500 [==============================] - 2s 1ms/step - loss: 0.2561 - accuracy: 0.9630 - val_loss: 0.2589 - val_accuracy: 0.9624\n",
      "Epoch 41/200\n",
      "1500/1500 [==============================] - 2s 1ms/step - loss: 0.2513 - accuracy: 0.9633 - val_loss: 0.2528 - val_accuracy: 0.9630\n",
      "Epoch 42/200\n",
      "1500/1500 [==============================] - 2s 1ms/step - loss: 0.2534 - accuracy: 0.9630 - val_loss: 0.2731 - val_accuracy: 0.9567\n",
      "Epoch 43/200\n",
      "1500/1500 [==============================] - 2s 1ms/step - loss: 0.2525 - accuracy: 0.9627 - val_loss: 0.2600 - val_accuracy: 0.9602\n",
      "Epoch 44/200\n",
      "1500/1500 [==============================] - 2s 1ms/step - loss: 0.2497 - accuracy: 0.9638 - val_loss: 0.2713 - val_accuracy: 0.9567\n",
      "Epoch 45/200\n",
      "1500/1500 [==============================] - 2s 1ms/step - loss: 0.2495 - accuracy: 0.9634 - val_loss: 0.2510 - val_accuracy: 0.9646\n",
      "Epoch 46/200\n",
      "1500/1500 [==============================] - 2s 1ms/step - loss: 0.2495 - accuracy: 0.9641 - val_loss: 0.2725 - val_accuracy: 0.9573\n",
      "Epoch 47/200\n",
      "1500/1500 [==============================] - 2s 1ms/step - loss: 0.2470 - accuracy: 0.9644 - val_loss: 0.2557 - val_accuracy: 0.9617\n",
      "Epoch 48/200\n",
      "1500/1500 [==============================] - 2s 1ms/step - loss: 0.2464 - accuracy: 0.9645 - val_loss: 0.2793 - val_accuracy: 0.9519\n",
      "Epoch 49/200\n",
      "1500/1500 [==============================] - 2s 1ms/step - loss: 0.2460 - accuracy: 0.9638 - val_loss: 0.2725 - val_accuracy: 0.9551\n",
      "Epoch 50/200\n",
      "1500/1500 [==============================] - 2s 1ms/step - loss: 0.2444 - accuracy: 0.9645 - val_loss: 0.2573 - val_accuracy: 0.9611\n",
      "Epoch 51/200\n",
      "1500/1500 [==============================] - 2s 1ms/step - loss: 0.2457 - accuracy: 0.9634 - val_loss: 0.2568 - val_accuracy: 0.9615\n",
      "Epoch 52/200\n",
      "1500/1500 [==============================] - 2s 1ms/step - loss: 0.2446 - accuracy: 0.9646 - val_loss: 0.2509 - val_accuracy: 0.9623\n",
      "Epoch 53/200\n",
      "1500/1500 [==============================] - 2s 1ms/step - loss: 0.2434 - accuracy: 0.9636 - val_loss: 0.2573 - val_accuracy: 0.9604\n",
      "Epoch 54/200\n",
      "1500/1500 [==============================] - 2s 1ms/step - loss: 0.2439 - accuracy: 0.9645 - val_loss: 0.2456 - val_accuracy: 0.9638\n",
      "Epoch 55/200\n",
      "1500/1500 [==============================] - 2s 1ms/step - loss: 0.2429 - accuracy: 0.9635 - val_loss: 0.2501 - val_accuracy: 0.9617\n",
      "Epoch 56/200\n",
      "1500/1500 [==============================] - 2s 1ms/step - loss: 0.2417 - accuracy: 0.9645 - val_loss: 0.2750 - val_accuracy: 0.9517\n",
      "Epoch 57/200\n"
     ]
    },
    {
     "name": "stdout",
     "output_type": "stream",
     "text": [
      "1500/1500 [==============================] - 2s 1ms/step - loss: 0.2416 - accuracy: 0.9646 - val_loss: 0.2480 - val_accuracy: 0.9629\n",
      "Epoch 58/200\n",
      "1500/1500 [==============================] - 2s 1ms/step - loss: 0.2420 - accuracy: 0.9641 - val_loss: 0.2596 - val_accuracy: 0.9593\n",
      "Epoch 59/200\n",
      "1500/1500 [==============================] - 2s 1ms/step - loss: 0.2414 - accuracy: 0.9642 - val_loss: 0.2521 - val_accuracy: 0.9620\n",
      "Epoch 60/200\n",
      "1500/1500 [==============================] - 2s 1ms/step - loss: 0.2415 - accuracy: 0.9640 - val_loss: 0.2680 - val_accuracy: 0.9583\n",
      "Epoch 61/200\n",
      "1500/1500 [==============================] - 2s 1ms/step - loss: 0.2409 - accuracy: 0.9633 - val_loss: 0.2429 - val_accuracy: 0.9647\n",
      "Epoch 62/200\n",
      "1500/1500 [==============================] - 2s 1ms/step - loss: 0.2377 - accuracy: 0.9647 - val_loss: 0.2597 - val_accuracy: 0.9575\n",
      "Epoch 63/200\n",
      "1500/1500 [==============================] - 2s 1ms/step - loss: 0.2377 - accuracy: 0.9646 - val_loss: 0.2387 - val_accuracy: 0.9647\n",
      "Epoch 64/200\n",
      "1500/1500 [==============================] - 2s 1ms/step - loss: 0.2403 - accuracy: 0.9651 - val_loss: 0.2383 - val_accuracy: 0.9647\n",
      "Epoch 65/200\n",
      "1500/1500 [==============================] - 2s 1ms/step - loss: 0.2375 - accuracy: 0.9643 - val_loss: 0.2495 - val_accuracy: 0.9613\n",
      "Epoch 66/200\n",
      "1500/1500 [==============================] - 2s 1ms/step - loss: 0.2359 - accuracy: 0.9649 - val_loss: 0.2404 - val_accuracy: 0.9647\n",
      "Epoch 67/200\n",
      "1500/1500 [==============================] - 2s 1ms/step - loss: 0.2361 - accuracy: 0.9652 - val_loss: 0.2570 - val_accuracy: 0.9604\n",
      "Epoch 68/200\n",
      "1500/1500 [==============================] - 2s 1ms/step - loss: 0.2361 - accuracy: 0.9645 - val_loss: 0.2428 - val_accuracy: 0.9629\n",
      "Epoch 69/200\n",
      "1500/1500 [==============================] - 2s 1ms/step - loss: 0.2382 - accuracy: 0.9639 - val_loss: 0.2415 - val_accuracy: 0.9639\n",
      "Epoch 70/200\n",
      "1500/1500 [==============================] - 2s 1ms/step - loss: 0.2347 - accuracy: 0.9645 - val_loss: 0.2527 - val_accuracy: 0.9602\n",
      "Epoch 71/200\n",
      "1500/1500 [==============================] - 2s 1ms/step - loss: 0.2370 - accuracy: 0.9641 - val_loss: 0.2432 - val_accuracy: 0.9622\n",
      "Epoch 72/200\n",
      "1500/1500 [==============================] - 2s 1ms/step - loss: 0.2342 - accuracy: 0.9656 - val_loss: 0.2481 - val_accuracy: 0.9610\n",
      "Epoch 73/200\n",
      "1500/1500 [==============================] - 2s 1ms/step - loss: 0.2336 - accuracy: 0.9645 - val_loss: 0.2525 - val_accuracy: 0.9597\n",
      "Epoch 74/200\n",
      "1500/1500 [==============================] - 2s 1ms/step - loss: 0.2347 - accuracy: 0.9651 - val_loss: 0.2433 - val_accuracy: 0.9633\n",
      "Epoch 75/200\n",
      "1500/1500 [==============================] - 2s 1ms/step - loss: 0.2337 - accuracy: 0.9637 - val_loss: 0.2420 - val_accuracy: 0.9632\n",
      "Epoch 76/200\n",
      "1500/1500 [==============================] - 2s 1ms/step - loss: 0.2322 - accuracy: 0.9650 - val_loss: 0.2721 - val_accuracy: 0.9537\n",
      "Epoch 77/200\n",
      "1500/1500 [==============================] - 2s 1ms/step - loss: 0.2334 - accuracy: 0.9651 - val_loss: 0.2538 - val_accuracy: 0.9594\n",
      "Epoch 78/200\n",
      "1500/1500 [==============================] - 2s 1ms/step - loss: 0.2343 - accuracy: 0.9648 - val_loss: 0.2398 - val_accuracy: 0.9657\n",
      "Epoch 79/200\n",
      "1500/1500 [==============================] - 2s 1ms/step - loss: 0.2320 - accuracy: 0.9655 - val_loss: 0.2421 - val_accuracy: 0.9616\n",
      "Epoch 80/200\n",
      "1500/1500 [==============================] - 2s 1ms/step - loss: 0.2327 - accuracy: 0.9649 - val_loss: 0.2347 - val_accuracy: 0.9651\n",
      "Epoch 81/200\n",
      "1500/1500 [==============================] - 2s 1ms/step - loss: 0.2303 - accuracy: 0.9661 - val_loss: 0.2355 - val_accuracy: 0.9668\n",
      "Epoch 82/200\n",
      "1500/1500 [==============================] - 2s 1ms/step - loss: 0.2316 - accuracy: 0.9651 - val_loss: 0.2442 - val_accuracy: 0.9628\n",
      "Epoch 83/200\n",
      "1500/1500 [==============================] - 2s 1ms/step - loss: 0.2318 - accuracy: 0.9653 - val_loss: 0.2394 - val_accuracy: 0.9628\n",
      "Epoch 84/200\n",
      "1500/1500 [==============================] - 2s 1ms/step - loss: 0.2303 - accuracy: 0.9664 - val_loss: 0.2414 - val_accuracy: 0.9620\n",
      "Epoch 85/200\n",
      "1500/1500 [==============================] - 2s 1ms/step - loss: 0.2309 - accuracy: 0.9655 - val_loss: 0.2424 - val_accuracy: 0.9631\n",
      "Epoch 86/200\n",
      "1500/1500 [==============================] - 2s 1ms/step - loss: 0.2300 - accuracy: 0.9657 - val_loss: 0.2445 - val_accuracy: 0.9624\n",
      "Epoch 87/200\n",
      "1500/1500 [==============================] - 2s 1ms/step - loss: 0.2307 - accuracy: 0.9654 - val_loss: 0.2371 - val_accuracy: 0.9632\n",
      "Epoch 88/200\n",
      "1500/1500 [==============================] - 2s 1ms/step - loss: 0.2290 - accuracy: 0.9663 - val_loss: 0.2488 - val_accuracy: 0.9608\n",
      "Epoch 89/200\n",
      "1500/1500 [==============================] - 2s 1ms/step - loss: 0.2301 - accuracy: 0.9660 - val_loss: 0.2482 - val_accuracy: 0.9603\n",
      "Epoch 90/200\n",
      "1500/1500 [==============================] - 2s 1ms/step - loss: 0.2291 - accuracy: 0.9652 - val_loss: 0.2391 - val_accuracy: 0.9622\n",
      "Epoch 91/200\n",
      "1500/1500 [==============================] - 2s 1ms/step - loss: 0.2307 - accuracy: 0.9651 - val_loss: 0.2408 - val_accuracy: 0.9638\n",
      "Epoch 92/200\n",
      "1500/1500 [==============================] - 2s 1ms/step - loss: 0.2272 - accuracy: 0.9668 - val_loss: 0.2483 - val_accuracy: 0.9598\n",
      "Epoch 93/200\n",
      "1500/1500 [==============================] - 2s 1ms/step - loss: 0.2285 - accuracy: 0.9651 - val_loss: 0.2501 - val_accuracy: 0.9571\n",
      "Epoch 94/200\n",
      "1500/1500 [==============================] - 2s 1ms/step - loss: 0.2300 - accuracy: 0.9660 - val_loss: 0.2465 - val_accuracy: 0.9619\n",
      "Epoch 95/200\n",
      "1500/1500 [==============================] - 2s 1ms/step - loss: 0.2275 - accuracy: 0.9648 - val_loss: 0.2435 - val_accuracy: 0.9617\n",
      "Epoch 96/200\n",
      "1500/1500 [==============================] - 2s 1ms/step - loss: 0.2261 - accuracy: 0.9665 - val_loss: 0.2337 - val_accuracy: 0.9643\n",
      "Epoch 97/200\n",
      "1500/1500 [==============================] - 2s 1ms/step - loss: 0.2270 - accuracy: 0.9657 - val_loss: 0.2288 - val_accuracy: 0.9660\n",
      "Epoch 98/200\n",
      "1500/1500 [==============================] - 2s 1ms/step - loss: 0.2252 - accuracy: 0.9662 - val_loss: 0.2480 - val_accuracy: 0.9617\n",
      "Epoch 99/200\n",
      "1500/1500 [==============================] - 2s 1ms/step - loss: 0.2256 - accuracy: 0.9665 - val_loss: 0.2444 - val_accuracy: 0.9597\n",
      "Epoch 100/200\n",
      "1500/1500 [==============================] - 2s 1ms/step - loss: 0.2268 - accuracy: 0.9658 - val_loss: 0.2411 - val_accuracy: 0.9607\n",
      "Epoch 101/200\n",
      "1500/1500 [==============================] - 2s 1ms/step - loss: 0.2274 - accuracy: 0.9647 - val_loss: 0.2401 - val_accuracy: 0.9616\n",
      "Epoch 102/200\n",
      "1500/1500 [==============================] - 2s 1ms/step - loss: 0.2259 - accuracy: 0.9658 - val_loss: 0.2419 - val_accuracy: 0.9613\n",
      "Epoch 103/200\n",
      "1500/1500 [==============================] - 2s 1ms/step - loss: 0.2277 - accuracy: 0.9655 - val_loss: 0.2348 - val_accuracy: 0.9647\n",
      "Epoch 104/200\n",
      "1500/1500 [==============================] - 2s 1ms/step - loss: 0.2270 - accuracy: 0.9655 - val_loss: 0.2342 - val_accuracy: 0.9644\n",
      "Epoch 105/200\n",
      "1500/1500 [==============================] - 2s 1ms/step - loss: 0.2243 - accuracy: 0.9668 - val_loss: 0.2323 - val_accuracy: 0.9643\n",
      "Epoch 106/200\n",
      "1500/1500 [==============================] - 2s 1ms/step - loss: 0.2268 - accuracy: 0.9643 - val_loss: 0.2458 - val_accuracy: 0.9604\n",
      "Epoch 107/200\n",
      "1500/1500 [==============================] - 2s 1ms/step - loss: 0.2264 - accuracy: 0.9650 - val_loss: 0.2371 - val_accuracy: 0.9620\n",
      "Epoch 108/200\n",
      "1500/1500 [==============================] - 2s 1ms/step - loss: 0.2250 - accuracy: 0.9660 - val_loss: 0.2604 - val_accuracy: 0.9555\n",
      "Epoch 109/200\n",
      "1500/1500 [==============================] - 2s 1ms/step - loss: 0.2238 - accuracy: 0.9664 - val_loss: 0.2600 - val_accuracy: 0.9572\n",
      "Epoch 110/200\n",
      "1500/1500 [==============================] - 2s 1ms/step - loss: 0.2259 - accuracy: 0.9660 - val_loss: 0.2390 - val_accuracy: 0.9617\n",
      "Epoch 111/200\n",
      "1500/1500 [==============================] - 2s 1ms/step - loss: 0.2258 - accuracy: 0.9654 - val_loss: 0.2424 - val_accuracy: 0.9622\n",
      "Epoch 112/200\n",
      "1500/1500 [==============================] - 2s 1ms/step - loss: 0.2209 - accuracy: 0.9677 - val_loss: 0.2359 - val_accuracy: 0.9623\n",
      "Epoch 113/200\n"
     ]
    },
    {
     "name": "stdout",
     "output_type": "stream",
     "text": [
      "1500/1500 [==============================] - 2s 1ms/step - loss: 0.2267 - accuracy: 0.9647 - val_loss: 0.2507 - val_accuracy: 0.9581\n",
      "Epoch 114/200\n",
      "1500/1500 [==============================] - 2s 1ms/step - loss: 0.2239 - accuracy: 0.9661 - val_loss: 0.2457 - val_accuracy: 0.9607\n",
      "Epoch 115/200\n",
      "1500/1500 [==============================] - 2s 1ms/step - loss: 0.2248 - accuracy: 0.9656 - val_loss: 0.2362 - val_accuracy: 0.9628\n",
      "Epoch 116/200\n",
      "1500/1500 [==============================] - 2s 1ms/step - loss: 0.2219 - accuracy: 0.9661 - val_loss: 0.2432 - val_accuracy: 0.9608\n",
      "Epoch 117/200\n",
      "1500/1500 [==============================] - 2s 1ms/step - loss: 0.2255 - accuracy: 0.9648 - val_loss: 0.2396 - val_accuracy: 0.9609\n",
      "Epoch 118/200\n",
      "1500/1500 [==============================] - 2s 1ms/step - loss: 0.2226 - accuracy: 0.9662 - val_loss: 0.2289 - val_accuracy: 0.9650\n",
      "Epoch 119/200\n",
      "1500/1500 [==============================] - 2s 1ms/step - loss: 0.2219 - accuracy: 0.9659 - val_loss: 0.2403 - val_accuracy: 0.9617\n",
      "Epoch 120/200\n",
      "1500/1500 [==============================] - 2s 1ms/step - loss: 0.2237 - accuracy: 0.9654 - val_loss: 0.2349 - val_accuracy: 0.9645\n",
      "Epoch 121/200\n",
      "1500/1500 [==============================] - 2s 1ms/step - loss: 0.2220 - accuracy: 0.9664 - val_loss: 0.2246 - val_accuracy: 0.9675\n",
      "Epoch 122/200\n",
      "1500/1500 [==============================] - 2s 1ms/step - loss: 0.2206 - accuracy: 0.9661 - val_loss: 0.2563 - val_accuracy: 0.9557\n",
      "Epoch 123/200\n",
      "1500/1500 [==============================] - 2s 1ms/step - loss: 0.2210 - accuracy: 0.9673 - val_loss: 0.2304 - val_accuracy: 0.9617\n",
      "Epoch 124/200\n",
      "1500/1500 [==============================] - 2s 1ms/step - loss: 0.2203 - accuracy: 0.9659 - val_loss: 0.2268 - val_accuracy: 0.9655\n",
      "Epoch 125/200\n",
      "1500/1500 [==============================] - 2s 1ms/step - loss: 0.2235 - accuracy: 0.9663 - val_loss: 0.2237 - val_accuracy: 0.9674\n",
      "Epoch 126/200\n",
      "1500/1500 [==============================] - 2s 1ms/step - loss: 0.2204 - accuracy: 0.9662 - val_loss: 0.2351 - val_accuracy: 0.9628\n",
      "Epoch 127/200\n",
      "1500/1500 [==============================] - 2s 1ms/step - loss: 0.2193 - accuracy: 0.9678 - val_loss: 0.2295 - val_accuracy: 0.9634\n",
      "Epoch 128/200\n",
      "1500/1500 [==============================] - 2s 1ms/step - loss: 0.2197 - accuracy: 0.9674 - val_loss: 0.2443 - val_accuracy: 0.9592\n",
      "Epoch 129/200\n",
      "1500/1500 [==============================] - 2s 1ms/step - loss: 0.2182 - accuracy: 0.9666 - val_loss: 0.2536 - val_accuracy: 0.9556\n",
      "Epoch 130/200\n",
      "1500/1500 [==============================] - 2s 1ms/step - loss: 0.2204 - accuracy: 0.9657 - val_loss: 0.2478 - val_accuracy: 0.9617\n",
      "Epoch 131/200\n",
      "1500/1500 [==============================] - 2s 1ms/step - loss: 0.2172 - accuracy: 0.9673 - val_loss: 0.2360 - val_accuracy: 0.9629\n",
      "Epoch 132/200\n",
      "1500/1500 [==============================] - 2s 1ms/step - loss: 0.2201 - accuracy: 0.9662 - val_loss: 0.2348 - val_accuracy: 0.9632\n",
      "Epoch 133/200\n",
      "1500/1500 [==============================] - 2s 1ms/step - loss: 0.2179 - accuracy: 0.9675 - val_loss: 0.2611 - val_accuracy: 0.9529\n",
      "Epoch 134/200\n",
      "1500/1500 [==============================] - 2s 1ms/step - loss: 0.2180 - accuracy: 0.9669 - val_loss: 0.2255 - val_accuracy: 0.9654\n",
      "Epoch 135/200\n",
      "1500/1500 [==============================] - 2s 1ms/step - loss: 0.2185 - accuracy: 0.9665 - val_loss: 0.2280 - val_accuracy: 0.9663\n",
      "Epoch 136/200\n",
      "1500/1500 [==============================] - 2s 1ms/step - loss: 0.2205 - accuracy: 0.9665 - val_loss: 0.2277 - val_accuracy: 0.9653\n",
      "Epoch 137/200\n",
      "1500/1500 [==============================] - 2s 1ms/step - loss: 0.2183 - accuracy: 0.9669 - val_loss: 0.2406 - val_accuracy: 0.9607\n",
      "Epoch 138/200\n",
      "1500/1500 [==============================] - 2s 1ms/step - loss: 0.2188 - accuracy: 0.9672 - val_loss: 0.2328 - val_accuracy: 0.9616\n",
      "Epoch 139/200\n",
      "1500/1500 [==============================] - 2s 1ms/step - loss: 0.2215 - accuracy: 0.9654 - val_loss: 0.2356 - val_accuracy: 0.9622\n",
      "Epoch 140/200\n",
      "1500/1500 [==============================] - 2s 1ms/step - loss: 0.2177 - accuracy: 0.9674 - val_loss: 0.2532 - val_accuracy: 0.9564\n",
      "Epoch 141/200\n",
      "1500/1500 [==============================] - 2s 1ms/step - loss: 0.2198 - accuracy: 0.9664 - val_loss: 0.2221 - val_accuracy: 0.9667\n",
      "Epoch 142/200\n",
      "1500/1500 [==============================] - 2s 1ms/step - loss: 0.2203 - accuracy: 0.9654 - val_loss: 0.2305 - val_accuracy: 0.9628\n",
      "Epoch 143/200\n",
      "1500/1500 [==============================] - 2s 1ms/step - loss: 0.2185 - accuracy: 0.9675 - val_loss: 0.2355 - val_accuracy: 0.9631\n",
      "Epoch 144/200\n",
      "1500/1500 [==============================] - 2s 1ms/step - loss: 0.2196 - accuracy: 0.9666 - val_loss: 0.2376 - val_accuracy: 0.9627\n",
      "Epoch 145/200\n",
      "1500/1500 [==============================] - 2s 1ms/step - loss: 0.2175 - accuracy: 0.9665 - val_loss: 0.2276 - val_accuracy: 0.9647\n",
      "Epoch 146/200\n",
      "1500/1500 [==============================] - 1s 992us/step - loss: 0.2163 - accuracy: 0.9669 - val_loss: 0.2248 - val_accuracy: 0.9654\n",
      "Epoch 147/200\n",
      "1500/1500 [==============================] - 1s 991us/step - loss: 0.2175 - accuracy: 0.9673 - val_loss: 0.2175 - val_accuracy: 0.9682\n",
      "Epoch 148/200\n",
      "1500/1500 [==============================] - 2s 1ms/step - loss: 0.2171 - accuracy: 0.9674 - val_loss: 0.2372 - val_accuracy: 0.9625\n",
      "Epoch 149/200\n",
      "1500/1500 [==============================] - 2s 1ms/step - loss: 0.2165 - accuracy: 0.9672 - val_loss: 0.2356 - val_accuracy: 0.9608\n",
      "Epoch 150/200\n",
      "1500/1500 [==============================] - 2s 1ms/step - loss: 0.2159 - accuracy: 0.9670 - val_loss: 0.2271 - val_accuracy: 0.9632\n",
      "Epoch 151/200\n",
      "1500/1500 [==============================] - 2s 1ms/step - loss: 0.2173 - accuracy: 0.9664 - val_loss: 0.2309 - val_accuracy: 0.9633\n",
      "Epoch 152/200\n",
      "1500/1500 [==============================] - 2s 1ms/step - loss: 0.2186 - accuracy: 0.9672 - val_loss: 0.2325 - val_accuracy: 0.9618\n",
      "Epoch 153/200\n",
      "1500/1500 [==============================] - 2s 1ms/step - loss: 0.2172 - accuracy: 0.9670 - val_loss: 0.2338 - val_accuracy: 0.9625\n",
      "Epoch 154/200\n",
      "1500/1500 [==============================] - 2s 1ms/step - loss: 0.2164 - accuracy: 0.9669 - val_loss: 0.2300 - val_accuracy: 0.9642\n",
      "Epoch 155/200\n",
      "1500/1500 [==============================] - 2s 1ms/step - loss: 0.2178 - accuracy: 0.9665 - val_loss: 0.2313 - val_accuracy: 0.9645\n",
      "Epoch 156/200\n",
      "1500/1500 [==============================] - 2s 1ms/step - loss: 0.2160 - accuracy: 0.9664 - val_loss: 0.2272 - val_accuracy: 0.9663\n",
      "Epoch 157/200\n",
      "1500/1500 [==============================] - 2s 1ms/step - loss: 0.2158 - accuracy: 0.9670 - val_loss: 0.2358 - val_accuracy: 0.9625\n",
      "Epoch 158/200\n",
      "1500/1500 [==============================] - 2s 1ms/step - loss: 0.2149 - accuracy: 0.9678 - val_loss: 0.2405 - val_accuracy: 0.9614\n",
      "Epoch 159/200\n",
      "1500/1500 [==============================] - 2s 1ms/step - loss: 0.2164 - accuracy: 0.9668 - val_loss: 0.2387 - val_accuracy: 0.9628\n",
      "Epoch 160/200\n",
      "1500/1500 [==============================] - 2s 1ms/step - loss: 0.2169 - accuracy: 0.9662 - val_loss: 0.2279 - val_accuracy: 0.9640\n",
      "Epoch 161/200\n",
      "1500/1500 [==============================] - 2s 1ms/step - loss: 0.2154 - accuracy: 0.9670 - val_loss: 0.2283 - val_accuracy: 0.9645\n",
      "Epoch 162/200\n",
      "1500/1500 [==============================] - 2s 1ms/step - loss: 0.2163 - accuracy: 0.9668 - val_loss: 0.2263 - val_accuracy: 0.9643\n",
      "Epoch 163/200\n",
      "1500/1500 [==============================] - 2s 1ms/step - loss: 0.2130 - accuracy: 0.9672 - val_loss: 0.2285 - val_accuracy: 0.9636\n",
      "Epoch 164/200\n",
      "1500/1500 [==============================] - 2s 1ms/step - loss: 0.2147 - accuracy: 0.9677 - val_loss: 0.2328 - val_accuracy: 0.9612\n",
      "Epoch 165/200\n",
      "1500/1500 [==============================] - 2s 1ms/step - loss: 0.2163 - accuracy: 0.9669 - val_loss: 0.2441 - val_accuracy: 0.9603\n",
      "Epoch 166/200\n",
      "1500/1500 [==============================] - 2s 1ms/step - loss: 0.2137 - accuracy: 0.9668 - val_loss: 0.2225 - val_accuracy: 0.9678\n",
      "Epoch 167/200\n",
      "1500/1500 [==============================] - 2s 1ms/step - loss: 0.2155 - accuracy: 0.9664 - val_loss: 0.2662 - val_accuracy: 0.9504\n",
      "Epoch 168/200\n",
      "1500/1500 [==============================] - 2s 1ms/step - loss: 0.2132 - accuracy: 0.9677 - val_loss: 0.2255 - val_accuracy: 0.9648\n"
     ]
    },
    {
     "name": "stdout",
     "output_type": "stream",
     "text": [
      "Epoch 169/200\n",
      "1500/1500 [==============================] - 2s 1ms/step - loss: 0.2169 - accuracy: 0.9669 - val_loss: 0.2312 - val_accuracy: 0.9623\n",
      "Epoch 170/200\n",
      "1500/1500 [==============================] - 2s 1ms/step - loss: 0.2156 - accuracy: 0.9667 - val_loss: 0.2304 - val_accuracy: 0.9632\n",
      "Epoch 171/200\n",
      "1500/1500 [==============================] - 2s 1ms/step - loss: 0.2168 - accuracy: 0.9665 - val_loss: 0.2347 - val_accuracy: 0.9617\n",
      "Epoch 172/200\n",
      "1500/1500 [==============================] - 2s 1ms/step - loss: 0.2151 - accuracy: 0.9668 - val_loss: 0.2356 - val_accuracy: 0.9618\n",
      "Epoch 173/200\n",
      "1500/1500 [==============================] - 2s 1ms/step - loss: 0.2154 - accuracy: 0.9675 - val_loss: 0.2286 - val_accuracy: 0.9632\n",
      "Epoch 174/200\n",
      "1500/1500 [==============================] - 2s 1ms/step - loss: 0.2137 - accuracy: 0.9675 - val_loss: 0.2163 - val_accuracy: 0.9672\n",
      "Epoch 175/200\n",
      "1500/1500 [==============================] - 2s 1ms/step - loss: 0.2130 - accuracy: 0.9678 - val_loss: 0.2355 - val_accuracy: 0.9597\n",
      "Epoch 176/200\n",
      "1500/1500 [==============================] - 2s 1ms/step - loss: 0.2162 - accuracy: 0.9673 - val_loss: 0.2292 - val_accuracy: 0.9622\n",
      "Epoch 177/200\n",
      "1500/1500 [==============================] - 2s 1ms/step - loss: 0.2157 - accuracy: 0.9666 - val_loss: 0.2295 - val_accuracy: 0.9630\n",
      "Epoch 178/200\n",
      "1500/1500 [==============================] - 2s 1ms/step - loss: 0.2129 - accuracy: 0.9676 - val_loss: 0.2229 - val_accuracy: 0.9642\n",
      "Epoch 179/200\n",
      "1500/1500 [==============================] - 2s 1ms/step - loss: 0.2141 - accuracy: 0.9674 - val_loss: 0.2557 - val_accuracy: 0.9537\n",
      "Epoch 180/200\n",
      "1500/1500 [==============================] - 2s 1ms/step - loss: 0.2118 - accuracy: 0.9675 - val_loss: 0.2253 - val_accuracy: 0.9641\n",
      "Epoch 181/200\n",
      "1500/1500 [==============================] - 2s 1ms/step - loss: 0.2140 - accuracy: 0.9672 - val_loss: 0.2212 - val_accuracy: 0.9656\n",
      "Epoch 182/200\n",
      "1500/1500 [==============================] - 2s 1ms/step - loss: 0.2135 - accuracy: 0.9681 - val_loss: 0.2363 - val_accuracy: 0.9616\n",
      "Epoch 183/200\n",
      "1500/1500 [==============================] - 2s 1ms/step - loss: 0.2153 - accuracy: 0.9669 - val_loss: 0.2285 - val_accuracy: 0.9638\n",
      "Epoch 184/200\n",
      "1500/1500 [==============================] - 2s 1ms/step - loss: 0.2144 - accuracy: 0.9662 - val_loss: 0.2402 - val_accuracy: 0.9609\n",
      "Epoch 185/200\n",
      "1500/1500 [==============================] - 2s 1ms/step - loss: 0.2132 - accuracy: 0.9671 - val_loss: 0.2224 - val_accuracy: 0.9667\n",
      "Epoch 186/200\n",
      "1500/1500 [==============================] - 2s 1ms/step - loss: 0.2132 - accuracy: 0.9675 - val_loss: 0.2327 - val_accuracy: 0.9625\n",
      "Epoch 187/200\n",
      "1500/1500 [==============================] - 2s 1ms/step - loss: 0.2129 - accuracy: 0.9672 - val_loss: 0.2409 - val_accuracy: 0.9613\n",
      "Epoch 188/200\n",
      "1500/1500 [==============================] - 2s 1ms/step - loss: 0.2134 - accuracy: 0.9671 - val_loss: 0.2357 - val_accuracy: 0.9605\n",
      "Epoch 189/200\n",
      "1500/1500 [==============================] - 2s 1ms/step - loss: 0.2118 - accuracy: 0.9681 - val_loss: 0.2368 - val_accuracy: 0.9577\n",
      "Epoch 190/200\n",
      "1500/1500 [==============================] - 2s 1ms/step - loss: 0.2150 - accuracy: 0.9667 - val_loss: 0.2400 - val_accuracy: 0.9598\n",
      "Epoch 191/200\n",
      "1500/1500 [==============================] - 2s 1ms/step - loss: 0.2130 - accuracy: 0.9671 - val_loss: 0.2353 - val_accuracy: 0.9620\n",
      "Epoch 192/200\n",
      "1500/1500 [==============================] - 2s 1ms/step - loss: 0.2149 - accuracy: 0.9669 - val_loss: 0.2361 - val_accuracy: 0.9606\n",
      "Epoch 193/200\n",
      "1500/1500 [==============================] - 2s 1ms/step - loss: 0.2134 - accuracy: 0.9669 - val_loss: 0.2310 - val_accuracy: 0.9627\n",
      "Epoch 194/200\n",
      "1500/1500 [==============================] - 2s 1ms/step - loss: 0.2123 - accuracy: 0.9680 - val_loss: 0.2232 - val_accuracy: 0.9664\n",
      "Epoch 195/200\n",
      "1500/1500 [==============================] - 2s 1ms/step - loss: 0.2126 - accuracy: 0.9672 - val_loss: 0.2169 - val_accuracy: 0.9668\n",
      "Epoch 196/200\n",
      "1500/1500 [==============================] - 2s 1ms/step - loss: 0.2142 - accuracy: 0.9674 - val_loss: 0.2251 - val_accuracy: 0.9648\n",
      "Epoch 197/200\n",
      "1500/1500 [==============================] - 2s 1ms/step - loss: 0.2151 - accuracy: 0.9669 - val_loss: 0.2424 - val_accuracy: 0.9607\n",
      "Epoch 198/200\n",
      "1500/1500 [==============================] - 2s 1ms/step - loss: 0.2119 - accuracy: 0.9680 - val_loss: 0.2442 - val_accuracy: 0.9586\n",
      "Epoch 199/200\n",
      "1500/1500 [==============================] - 2s 1ms/step - loss: 0.2124 - accuracy: 0.9678 - val_loss: 0.2302 - val_accuracy: 0.9630\n",
      "Epoch 200/200\n",
      "1500/1500 [==============================] - 2s 1ms/step - loss: 0.2116 - accuracy: 0.9677 - val_loss: 0.2336 - val_accuracy: 0.9622\n"
     ]
    }
   ],
   "source": [
    "# will take a while... saving training history\n",
    "history_deepermnist = deepermodel_images.fit(x_train, y_tr_one_hot, epochs=200, batch_size= 32, validation_split = 0.2)"
   ]
  },
  {
   "cell_type": "code",
   "execution_count": 20,
   "metadata": {
    "cell_style": "split",
    "slideshow": {
     "slide_type": "slide"
    }
   },
   "outputs": [
    {
     "name": "stdout",
     "output_type": "stream",
     "text": [
      "313/313 - 0s - loss: 0.2290 - accuracy: 0.9650 - 271ms/epoch - 866us/step\n"
     ]
    },
    {
     "data": {
      "text/plain": [
       "[0.2289775162935257, 0.9649999737739563]"
      ]
     },
     "execution_count": 20,
     "metadata": {},
     "output_type": "execute_result"
    }
   ],
   "source": [
    "#evaluate test accuracy\n",
    "deepermodel_images.evaluate(x_test, y_tt_one_hot, verbose = 2)"
   ]
  },
  {
   "cell_type": "code",
   "execution_count": 21,
   "metadata": {
    "cell_style": "split",
    "slideshow": {
     "slide_type": "fragment"
    }
   },
   "outputs": [
    {
     "data": {
      "image/png": "[encoded data removed]",
      "text/plain": [
       "<Figure size 640x480 with 1 Axes>"
      ]
     },
     "metadata": {},
     "output_type": "display_data"
    }
   ],
   "source": [
    "train_deepmnist_history = pd.DataFrame(history_deepermnist.history)\n",
    "train_deepmnist_history.index.name = 'epochs'\n",
    "\n",
    "col_list = ['loss', 'val_loss']\n",
    "train_deepmnist_history[col_list].plot()\n",
    "plt.ylabel('Categorical cross entropy')\n",
    "plt.title('Training loss history')\n",
    "plt.show()"
   ]
  },
  {
   "cell_type": "code",
   "execution_count": 22,
   "metadata": {
    "cell_style": "split",
    "slideshow": {
     "slide_type": "slide"
    }
   },
   "outputs": [
    {
     "data": {
      "image/png": "[encoded data removed]",
      "text/plain": [
       "<Figure size 640x480 with 1 Axes>"
      ]
     },
     "metadata": {},
     "output_type": "display_data"
    }
   ],
   "source": [
    "col_list = ['accuracy', 'val_accuracy']\n",
    "train_deepmnist_history[col_list].plot()\n",
    "plt.ylabel('Accuracy')\n",
    "plt.title('Training loss history')\n",
    "plt.show()"
   ]
  },
  {
   "cell_type": "markdown",
   "metadata": {
    "cell_style": "split",
    "slideshow": {
     "slide_type": "fragment"
    }
   },
   "source": [
    "Not overfitting even while adding much more complexity:\n",
    "- in this case, not gaining much either"
   ]
  },
  {
   "cell_type": "markdown",
   "metadata": {
    "cell_style": "split",
    "slideshow": {
     "slide_type": "fragment"
    }
   },
   "source": [
    "To do better:\n",
    "- try a different regularization technique\n",
    "- may need to think harder about network architecture"
   ]
  },
  {
   "cell_type": "markdown",
   "metadata": {
    "cell_style": "center",
    "slideshow": {
     "slide_type": "slide"
    }
   },
   "source": [
    "#### Dropout Regularization\n",
    "- Architecture based strategy.\n",
    "\n",
    "On each forward/backprop iteration:\n",
    "- given layer with dropout\n",
    "- shut off activations to randomly selected nodes in layer"
   ]
  },
  {
   "cell_type": "markdown",
   "metadata": {
    "cell_style": "split",
    "slideshow": {
     "slide_type": "slide"
    }
   },
   "source": [
    "![drop_out](images/drop_out.png)"
   ]
  },
  {
   "cell_type": "markdown",
   "metadata": {
    "cell_style": "split",
    "slideshow": {
     "slide_type": "fragment"
    }
   },
   "source": [
    "<img src = \"Images/dropout_network.gif\" >"
   ]
  },
  {
   "cell_type": "markdown",
   "metadata": {
    "cell_style": "center",
    "slideshow": {
     "slide_type": "fragment"
    }
   },
   "source": [
    "- Set $p^{[l]}$  uniform probability of node dropout for given layer\n",
    "- each train cycle: kills different activations"
   ]
  },
  {
   "cell_type": "markdown",
   "metadata": {
    "cell_style": "center",
    "slideshow": {
     "slide_type": "fragment"
    }
   },
   "source": [
    "Dead nodes dont contribute to weight updates in backprop."
   ]
  },
  {
   "cell_type": "markdown",
   "metadata": {
    "cell_style": "center",
    "slideshow": {
     "slide_type": "fragment"
    }
   },
   "source": [
    "after many train cycles: have learned weights:\n",
    "- contributions from many different networks learning different things"
   ]
  },
  {
   "cell_type": "markdown",
   "metadata": {
    "cell_style": "split",
    "slideshow": {
     "slide_type": "slide"
    }
   },
   "source": [
    "<img src = \"Images/Deeper_network.jpg\">"
   ]
  },
  {
   "cell_type": "markdown",
   "metadata": {
    "cell_style": "split",
    "slideshow": {
     "slide_type": "fragment"
    }
   },
   "source": [
    "Validation/test phase:\n",
    "- use all nodes and learned weights.\n",
    "- make prediction."
   ]
  },
  {
   "cell_type": "markdown",
   "metadata": {
    "cell_style": "center",
    "slideshow": {
     "slide_type": "slide"
    }
   },
   "source": [
    "**Why it works as regularization**\n",
    "- network learns not to trust in any one subset of weights: unlikely any particular weight subset gets too big.\n",
    "- distributes weights in way that is robust to network noise (random dropout): generalizes well. "
   ]
  },
  {
   "cell_type": "markdown",
   "metadata": {
    "slideshow": {
     "slide_type": "slide"
    }
   },
   "source": [
    "#### Dropout in Keras\n",
    "\n",
    "- Simply add it as though it were a layer. It will apply to the immediately preceding layer."
   ]
  },
  {
   "cell_type": "code",
   "execution_count": 23,
   "metadata": {
    "slideshow": {
     "slide_type": "fragment"
    }
   },
   "outputs": [],
   "source": [
    "from tensorflow.keras.layers import Dropout"
   ]
  },
  {
   "cell_type": "markdown",
   "metadata": {
    "cell_style": "center",
    "slideshow": {
     "slide_type": "slide"
    }
   },
   "source": [
    "Dropout() takes in the dropout probability as a constructor argument:\n",
    "- Dropout($p$) after some of the hidden layers.\n",
    "- $p \\in [0.2, 0.5]$ as good range to try."
   ]
  },
  {
   "cell_type": "code",
   "execution_count": 24,
   "metadata": {
    "slideshow": {
     "slide_type": "subslide"
    }
   },
   "outputs": [],
   "source": [
    "from tensorflow.keras.optimizers import Adam\n",
    "opt = Adam(learning_rate=0.003, beta_1=0.9, beta_2=0.999, epsilon=1e-07)"
   ]
  },
  {
   "cell_type": "markdown",
   "metadata": {
    "slideshow": {
     "slide_type": "slide"
    }
   },
   "source": [
    "**Define model**"
   ]
  },
  {
   "cell_type": "code",
   "execution_count": 25,
   "metadata": {
    "cell_style": "split",
    "slideshow": {
     "slide_type": "fragment"
    }
   },
   "outputs": [],
   "source": [
    "model = Sequential()\n",
    "model.add(Flatten(input_shape=(28, 28)))\n",
    "model.add(Dense(20, activation='relu'))\n",
    "model.add(Dropout(0.2)) # dropout on previous activations\n",
    "model.add(Dense(12, activation='relu'))\n",
    "model.add(Dense(12, activation='relu'))\n",
    "model.add(Dropout(0.1)) # dropout\n",
    "model.add(Dense(12, activation='relu'))\n",
    "model.add(Dense(8, activation='relu'))\n",
    "model.add(Dense(10, activation ='softmax'))\n",
    "\n",
    "# compile model\n",
    "model.compile(optimizer=opt, \n",
    "              loss='categorical_crossentropy',\n",
    "              metrics=['accuracy'])"
   ]
  },
  {
   "cell_type": "markdown",
   "metadata": {
    "cell_style": "split",
    "slideshow": {
     "slide_type": "fragment"
    }
   },
   "source": [
    "Some tips:\n",
    "- Dropout earlier in network or inputs. Don't put on final layers.\n",
    "- Try faster learning rates in optimizer"
   ]
  },
  {
   "cell_type": "code",
   "execution_count": 26,
   "metadata": {
    "scrolled": true,
    "slideshow": {
     "slide_type": "slide"
    }
   },
   "outputs": [
    {
     "name": "stdout",
     "output_type": "stream",
     "text": [
      "Epoch 1/200\n",
      "1500/1500 - 2s - loss: 0.8678 - accuracy: 0.7064 - val_loss: 0.4106 - val_accuracy: 0.8917 - 2s/epoch - 1ms/step\n",
      "Epoch 2/200\n",
      "1500/1500 - 1s - loss: 0.6044 - accuracy: 0.8174 - val_loss: 0.3483 - val_accuracy: 0.9087 - 1s/epoch - 940us/step\n",
      "Epoch 3/200\n",
      "1500/1500 - 1s - loss: 0.5597 - accuracy: 0.8317 - val_loss: 0.3062 - val_accuracy: 0.9201 - 1s/epoch - 913us/step\n",
      "Epoch 4/200\n",
      "1500/1500 - 1s - loss: 0.5341 - accuracy: 0.8415 - val_loss: 0.3214 - val_accuracy: 0.9186 - 1s/epoch - 900us/step\n",
      "Epoch 5/200\n",
      "1500/1500 - 1s - loss: 0.5094 - accuracy: 0.8500 - val_loss: 0.3187 - val_accuracy: 0.9171 - 1s/epoch - 895us/step\n",
      "Epoch 6/200\n",
      "1500/1500 - 1s - loss: 0.5000 - accuracy: 0.8504 - val_loss: 0.2898 - val_accuracy: 0.9227 - 1s/epoch - 891us/step\n",
      "Epoch 7/200\n",
      "1500/1500 - 1s - loss: 0.4814 - accuracy: 0.8603 - val_loss: 0.2844 - val_accuracy: 0.9262 - 1s/epoch - 878us/step\n",
      "Epoch 8/200\n",
      "1500/1500 - 1s - loss: 0.4744 - accuracy: 0.8637 - val_loss: 0.2707 - val_accuracy: 0.9291 - 1s/epoch - 893us/step\n",
      "Epoch 9/200\n",
      "1500/1500 - 1s - loss: 0.4707 - accuracy: 0.8629 - val_loss: 0.2708 - val_accuracy: 0.9282 - 1s/epoch - 874us/step\n",
      "Epoch 10/200\n",
      "1500/1500 - 1s - loss: 0.4583 - accuracy: 0.8661 - val_loss: 0.2703 - val_accuracy: 0.9303 - 1s/epoch - 898us/step\n",
      "Epoch 11/200\n",
      "1500/1500 - 1s - loss: 0.4486 - accuracy: 0.8700 - val_loss: 0.2732 - val_accuracy: 0.9280 - 1s/epoch - 889us/step\n",
      "Epoch 12/200\n",
      "1500/1500 - 1s - loss: 0.4392 - accuracy: 0.8725 - val_loss: 0.2632 - val_accuracy: 0.9306 - 1s/epoch - 881us/step\n",
      "Epoch 13/200\n",
      "1500/1500 - 1s - loss: 0.4412 - accuracy: 0.8730 - val_loss: 0.2760 - val_accuracy: 0.9252 - 1s/epoch - 915us/step\n",
      "Epoch 14/200\n",
      "1500/1500 - 1s - loss: 0.4307 - accuracy: 0.8752 - val_loss: 0.2668 - val_accuracy: 0.9268 - 1s/epoch - 883us/step\n",
      "Epoch 15/200\n",
      "1500/1500 - 1s - loss: 0.4275 - accuracy: 0.8767 - val_loss: 0.2642 - val_accuracy: 0.9284 - 1s/epoch - 876us/step\n",
      "Epoch 16/200\n",
      "1500/1500 - 1s - loss: 0.4202 - accuracy: 0.8789 - val_loss: 0.2568 - val_accuracy: 0.9300 - 1s/epoch - 889us/step\n",
      "Epoch 17/200\n",
      "1500/1500 - 1s - loss: 0.4117 - accuracy: 0.8819 - val_loss: 0.2575 - val_accuracy: 0.9302 - 1s/epoch - 893us/step\n",
      "Epoch 18/200\n",
      "1500/1500 - 1s - loss: 0.4150 - accuracy: 0.8805 - val_loss: 0.2497 - val_accuracy: 0.9316 - 1s/epoch - 925us/step\n",
      "Epoch 19/200\n",
      "1500/1500 - 1s - loss: 0.4051 - accuracy: 0.8835 - val_loss: 0.2709 - val_accuracy: 0.9262 - 1s/epoch - 918us/step\n",
      "Epoch 20/200\n",
      "1500/1500 - 1s - loss: 0.4093 - accuracy: 0.8807 - val_loss: 0.2569 - val_accuracy: 0.9308 - 1s/epoch - 920us/step\n",
      "Epoch 21/200\n",
      "1500/1500 - 1s - loss: 0.3984 - accuracy: 0.8865 - val_loss: 0.2556 - val_accuracy: 0.9298 - 1s/epoch - 907us/step\n",
      "Epoch 22/200\n",
      "1500/1500 - 1s - loss: 0.4088 - accuracy: 0.8824 - val_loss: 0.2482 - val_accuracy: 0.9327 - 1s/epoch - 906us/step\n",
      "Epoch 23/200\n",
      "1500/1500 - 1s - loss: 0.3981 - accuracy: 0.8856 - val_loss: 0.2476 - val_accuracy: 0.9317 - 1s/epoch - 928us/step\n",
      "Epoch 24/200\n",
      "1500/1500 - 1s - loss: 0.4002 - accuracy: 0.8851 - val_loss: 0.2522 - val_accuracy: 0.9348 - 1s/epoch - 933us/step\n",
      "Epoch 25/200\n",
      "1500/1500 - 1s - loss: 0.3958 - accuracy: 0.8867 - val_loss: 0.2467 - val_accuracy: 0.9367 - 1s/epoch - 908us/step\n",
      "Epoch 26/200\n",
      "1500/1500 - 1s - loss: 0.3946 - accuracy: 0.8867 - val_loss: 0.2549 - val_accuracy: 0.9340 - 1s/epoch - 885us/step\n",
      "Epoch 27/200\n",
      "1500/1500 - 1s - loss: 0.3916 - accuracy: 0.8873 - val_loss: 0.2554 - val_accuracy: 0.9305 - 1s/epoch - 872us/step\n",
      "Epoch 28/200\n",
      "1500/1500 - 1s - loss: 0.3897 - accuracy: 0.8889 - val_loss: 0.2423 - val_accuracy: 0.9357 - 1s/epoch - 868us/step\n",
      "Epoch 29/200\n",
      "1500/1500 - 1s - loss: 0.3864 - accuracy: 0.8895 - val_loss: 0.2587 - val_accuracy: 0.9295 - 1s/epoch - 871us/step\n",
      "Epoch 30/200\n",
      "1500/1500 - 1s - loss: 0.3858 - accuracy: 0.8908 - val_loss: 0.2542 - val_accuracy: 0.9301 - 1s/epoch - 877us/step\n",
      "Epoch 31/200\n",
      "1500/1500 - 1s - loss: 0.3860 - accuracy: 0.8906 - val_loss: 0.2453 - val_accuracy: 0.9348 - 1s/epoch - 893us/step\n",
      "Epoch 32/200\n",
      "1500/1500 - 1s - loss: 0.3890 - accuracy: 0.8897 - val_loss: 0.2364 - val_accuracy: 0.9361 - 1s/epoch - 905us/step\n",
      "Epoch 33/200\n",
      "1500/1500 - 1s - loss: 0.3836 - accuracy: 0.8903 - val_loss: 0.2464 - val_accuracy: 0.9360 - 1s/epoch - 880us/step\n",
      "Epoch 34/200\n",
      "1500/1500 - 1s - loss: 0.3871 - accuracy: 0.8909 - val_loss: 0.2420 - val_accuracy: 0.9339 - 1s/epoch - 885us/step\n",
      "Epoch 35/200\n",
      "1500/1500 - 1s - loss: 0.3835 - accuracy: 0.8905 - val_loss: 0.2418 - val_accuracy: 0.9348 - 1s/epoch - 891us/step\n",
      "Epoch 36/200\n",
      "1500/1500 - 1s - loss: 0.3794 - accuracy: 0.8913 - val_loss: 0.2544 - val_accuracy: 0.9317 - 1s/epoch - 875us/step\n",
      "Epoch 37/200\n",
      "1500/1500 - 1s - loss: 0.3855 - accuracy: 0.8901 - val_loss: 0.2422 - val_accuracy: 0.9352 - 1s/epoch - 881us/step\n",
      "Epoch 38/200\n",
      "1500/1500 - 1s - loss: 0.3813 - accuracy: 0.8928 - val_loss: 0.2435 - val_accuracy: 0.9352 - 1s/epoch - 872us/step\n",
      "Epoch 39/200\n",
      "1500/1500 - 1s - loss: 0.3755 - accuracy: 0.8931 - val_loss: 0.2539 - val_accuracy: 0.9315 - 1s/epoch - 869us/step\n",
      "Epoch 40/200\n",
      "1500/1500 - 1s - loss: 0.3777 - accuracy: 0.8938 - val_loss: 0.2463 - val_accuracy: 0.9327 - 1s/epoch - 874us/step\n",
      "Epoch 41/200\n",
      "1500/1500 - 1s - loss: 0.3787 - accuracy: 0.8925 - val_loss: 0.2470 - val_accuracy: 0.9337 - 1s/epoch - 893us/step\n",
      "Epoch 42/200\n",
      "1500/1500 - 1s - loss: 0.3784 - accuracy: 0.8924 - val_loss: 0.2586 - val_accuracy: 0.9305 - 1s/epoch - 868us/step\n",
      "Epoch 43/200\n",
      "1500/1500 - 1s - loss: 0.3695 - accuracy: 0.8951 - val_loss: 0.2437 - val_accuracy: 0.9337 - 1s/epoch - 871us/step\n",
      "Epoch 44/200\n",
      "1500/1500 - 1s - loss: 0.3773 - accuracy: 0.8934 - val_loss: 0.2321 - val_accuracy: 0.9377 - 1s/epoch - 867us/step\n",
      "Epoch 45/200\n",
      "1500/1500 - 1s - loss: 0.3741 - accuracy: 0.8942 - val_loss: 0.2547 - val_accuracy: 0.9318 - 1s/epoch - 868us/step\n",
      "Epoch 46/200\n",
      "1500/1500 - 1s - loss: 0.3780 - accuracy: 0.8920 - val_loss: 0.2421 - val_accuracy: 0.9373 - 1s/epoch - 867us/step\n",
      "Epoch 47/200\n",
      "1500/1500 - 1s - loss: 0.3708 - accuracy: 0.8934 - val_loss: 0.2420 - val_accuracy: 0.9341 - 1s/epoch - 872us/step\n",
      "Epoch 48/200\n",
      "1500/1500 - 1s - loss: 0.3734 - accuracy: 0.8933 - val_loss: 0.2366 - val_accuracy: 0.9363 - 1s/epoch - 898us/step\n",
      "Epoch 49/200\n",
      "1500/1500 - 1s - loss: 0.3728 - accuracy: 0.8935 - val_loss: 0.2413 - val_accuracy: 0.9355 - 1s/epoch - 938us/step\n",
      "Epoch 50/200\n",
      "1500/1500 - 1s - loss: 0.3732 - accuracy: 0.8944 - val_loss: 0.2353 - val_accuracy: 0.9373 - 1s/epoch - 892us/step\n",
      "Epoch 51/200\n",
      "1500/1500 - 1s - loss: 0.3741 - accuracy: 0.8940 - val_loss: 0.2463 - val_accuracy: 0.9339 - 1s/epoch - 916us/step\n",
      "Epoch 52/200\n",
      "1500/1500 - 1s - loss: 0.3674 - accuracy: 0.8950 - val_loss: 0.2418 - val_accuracy: 0.9357 - 1s/epoch - 885us/step\n",
      "Epoch 53/200\n",
      "1500/1500 - 1s - loss: 0.3705 - accuracy: 0.8952 - val_loss: 0.2443 - val_accuracy: 0.9345 - 1s/epoch - 895us/step\n",
      "Epoch 54/200\n",
      "1500/1500 - 1s - loss: 0.3651 - accuracy: 0.8962 - val_loss: 0.2393 - val_accuracy: 0.9358 - 1s/epoch - 922us/step\n",
      "Epoch 55/200\n",
      "1500/1500 - 1s - loss: 0.3596 - accuracy: 0.8997 - val_loss: 0.2485 - val_accuracy: 0.9338 - 1s/epoch - 889us/step\n",
      "Epoch 56/200\n",
      "1500/1500 - 1s - loss: 0.3680 - accuracy: 0.8961 - val_loss: 0.2348 - val_accuracy: 0.9365 - 1s/epoch - 879us/step\n",
      "Epoch 57/200\n",
      "1500/1500 - 1s - loss: 0.3596 - accuracy: 0.8971 - val_loss: 0.2352 - val_accuracy: 0.9368 - 1s/epoch - 900us/step\n",
      "Epoch 58/200\n",
      "1500/1500 - 1s - loss: 0.3675 - accuracy: 0.8957 - val_loss: 0.2459 - val_accuracy: 0.9323 - 1s/epoch - 896us/step\n",
      "Epoch 59/200\n",
      "1500/1500 - 1s - loss: 0.3702 - accuracy: 0.8960 - val_loss: 0.2489 - val_accuracy: 0.9358 - 1s/epoch - 902us/step\n",
      "Epoch 60/200\n",
      "1500/1500 - 1s - loss: 0.3671 - accuracy: 0.8961 - val_loss: 0.2457 - val_accuracy: 0.9344 - 1s/epoch - 909us/step\n",
      "Epoch 61/200\n",
      "1500/1500 - 1s - loss: 0.3702 - accuracy: 0.8949 - val_loss: 0.2380 - val_accuracy: 0.9359 - 1s/epoch - 917us/step\n",
      "Epoch 62/200\n",
      "1500/1500 - 1s - loss: 0.3619 - accuracy: 0.8974 - val_loss: 0.2477 - val_accuracy: 0.9337 - 1s/epoch - 910us/step\n",
      "Epoch 63/200\n",
      "1500/1500 - 1s - loss: 0.3598 - accuracy: 0.8964 - val_loss: 0.2481 - val_accuracy: 0.9351 - 1s/epoch - 913us/step\n",
      "Epoch 64/200\n",
      "1500/1500 - 1s - loss: 0.3633 - accuracy: 0.8965 - val_loss: 0.2517 - val_accuracy: 0.9327 - 1s/epoch - 972us/step\n",
      "Epoch 65/200\n"
     ]
    },
    {
     "name": "stdout",
     "output_type": "stream",
     "text": [
      "1500/1500 - 1s - loss: 0.3615 - accuracy: 0.8974 - val_loss: 0.2511 - val_accuracy: 0.9331 - 1s/epoch - 903us/step\n",
      "Epoch 66/200\n",
      "1500/1500 - 1s - loss: 0.3621 - accuracy: 0.8970 - val_loss: 0.2423 - val_accuracy: 0.9342 - 1s/epoch - 886us/step\n",
      "Epoch 67/200\n",
      "1500/1500 - 1s - loss: 0.3642 - accuracy: 0.8969 - val_loss: 0.2451 - val_accuracy: 0.9370 - 1s/epoch - 892us/step\n",
      "Epoch 68/200\n",
      "1500/1500 - 1s - loss: 0.3557 - accuracy: 0.8989 - val_loss: 0.2589 - val_accuracy: 0.9351 - 1s/epoch - 893us/step\n",
      "Epoch 69/200\n",
      "1500/1500 - 1s - loss: 0.3597 - accuracy: 0.8972 - val_loss: 0.2440 - val_accuracy: 0.9366 - 1s/epoch - 865us/step\n",
      "Epoch 70/200\n",
      "1500/1500 - 1s - loss: 0.3568 - accuracy: 0.8991 - val_loss: 0.2466 - val_accuracy: 0.9354 - 1s/epoch - 863us/step\n",
      "Epoch 71/200\n",
      "1500/1500 - 1s - loss: 0.3576 - accuracy: 0.8991 - val_loss: 0.2386 - val_accuracy: 0.9372 - 1s/epoch - 870us/step\n",
      "Epoch 72/200\n",
      "1500/1500 - 1s - loss: 0.3598 - accuracy: 0.8982 - val_loss: 0.2445 - val_accuracy: 0.9354 - 1s/epoch - 867us/step\n",
      "Epoch 73/200\n",
      "1500/1500 - 1s - loss: 0.3573 - accuracy: 0.8997 - val_loss: 0.2406 - val_accuracy: 0.9380 - 1s/epoch - 865us/step\n",
      "Epoch 74/200\n",
      "1500/1500 - 1s - loss: 0.3597 - accuracy: 0.8996 - val_loss: 0.2472 - val_accuracy: 0.9331 - 1s/epoch - 865us/step\n",
      "Epoch 75/200\n",
      "1500/1500 - 1s - loss: 0.3511 - accuracy: 0.9002 - val_loss: 0.2393 - val_accuracy: 0.9372 - 1s/epoch - 872us/step\n",
      "Epoch 76/200\n",
      "1500/1500 - 1s - loss: 0.3548 - accuracy: 0.8991 - val_loss: 0.2422 - val_accuracy: 0.9352 - 1s/epoch - 871us/step\n",
      "Epoch 77/200\n",
      "1500/1500 - 1s - loss: 0.3559 - accuracy: 0.8986 - val_loss: 0.2464 - val_accuracy: 0.9350 - 1s/epoch - 868us/step\n",
      "Epoch 78/200\n",
      "1500/1500 - 1s - loss: 0.3609 - accuracy: 0.8992 - val_loss: 0.2425 - val_accuracy: 0.9359 - 1s/epoch - 864us/step\n",
      "Epoch 79/200\n",
      "1500/1500 - 1s - loss: 0.3534 - accuracy: 0.8995 - val_loss: 0.2439 - val_accuracy: 0.9357 - 1s/epoch - 871us/step\n",
      "Epoch 80/200\n",
      "1500/1500 - 1s - loss: 0.3563 - accuracy: 0.8997 - val_loss: 0.2416 - val_accuracy: 0.9379 - 1s/epoch - 869us/step\n",
      "Epoch 81/200\n",
      "1500/1500 - 1s - loss: 0.3488 - accuracy: 0.9019 - val_loss: 0.2429 - val_accuracy: 0.9362 - 1s/epoch - 864us/step\n",
      "Epoch 82/200\n",
      "1500/1500 - 1s - loss: 0.3494 - accuracy: 0.9016 - val_loss: 0.2460 - val_accuracy: 0.9344 - 1s/epoch - 865us/step\n",
      "Epoch 83/200\n",
      "1500/1500 - 1s - loss: 0.3535 - accuracy: 0.8997 - val_loss: 0.2541 - val_accuracy: 0.9317 - 1s/epoch - 897us/step\n",
      "Epoch 84/200\n",
      "1500/1500 - 1s - loss: 0.3540 - accuracy: 0.8997 - val_loss: 0.2456 - val_accuracy: 0.9336 - 1s/epoch - 896us/step\n",
      "Epoch 85/200\n",
      "1500/1500 - 1s - loss: 0.3484 - accuracy: 0.9018 - val_loss: 0.2468 - val_accuracy: 0.9342 - 1s/epoch - 862us/step\n",
      "Epoch 86/200\n",
      "1500/1500 - 1s - loss: 0.3492 - accuracy: 0.9010 - val_loss: 0.2545 - val_accuracy: 0.9331 - 1s/epoch - 860us/step\n",
      "Epoch 87/200\n",
      "1500/1500 - 1s - loss: 0.3520 - accuracy: 0.9003 - val_loss: 0.2465 - val_accuracy: 0.9360 - 1s/epoch - 880us/step\n",
      "Epoch 88/200\n",
      "1500/1500 - 1s - loss: 0.3540 - accuracy: 0.9010 - val_loss: 0.2410 - val_accuracy: 0.9352 - 1s/epoch - 868us/step\n",
      "Epoch 89/200\n",
      "1500/1500 - 1s - loss: 0.3517 - accuracy: 0.9013 - val_loss: 0.2480 - val_accuracy: 0.9348 - 1s/epoch - 869us/step\n",
      "Epoch 90/200\n",
      "1500/1500 - 1s - loss: 0.3526 - accuracy: 0.9001 - val_loss: 0.2516 - val_accuracy: 0.9344 - 1s/epoch - 866us/step\n",
      "Epoch 91/200\n",
      "1500/1500 - 1s - loss: 0.3573 - accuracy: 0.8986 - val_loss: 0.2539 - val_accuracy: 0.9333 - 1s/epoch - 869us/step\n",
      "Epoch 92/200\n",
      "1500/1500 - 1s - loss: 0.3555 - accuracy: 0.8994 - val_loss: 0.2557 - val_accuracy: 0.9333 - 1s/epoch - 867us/step\n",
      "Epoch 93/200\n",
      "1500/1500 - 1s - loss: 0.3492 - accuracy: 0.9016 - val_loss: 0.2402 - val_accuracy: 0.9365 - 1s/epoch - 868us/step\n",
      "Epoch 94/200\n",
      "1500/1500 - 1s - loss: 0.3479 - accuracy: 0.9018 - val_loss: 0.2349 - val_accuracy: 0.9386 - 1s/epoch - 866us/step\n",
      "Epoch 95/200\n",
      "1500/1500 - 1s - loss: 0.3488 - accuracy: 0.9012 - val_loss: 0.2484 - val_accuracy: 0.9363 - 1s/epoch - 875us/step\n",
      "Epoch 96/200\n",
      "1500/1500 - 1s - loss: 0.3498 - accuracy: 0.9004 - val_loss: 0.2425 - val_accuracy: 0.9377 - 1s/epoch - 867us/step\n",
      "Epoch 97/200\n",
      "1500/1500 - 1s - loss: 0.3517 - accuracy: 0.9008 - val_loss: 0.2348 - val_accuracy: 0.9396 - 1s/epoch - 867us/step\n",
      "Epoch 98/200\n",
      "1500/1500 - 1s - loss: 0.3427 - accuracy: 0.9028 - val_loss: 0.2404 - val_accuracy: 0.9377 - 1s/epoch - 865us/step\n",
      "Epoch 99/200\n",
      "1500/1500 - 1s - loss: 0.3493 - accuracy: 0.9001 - val_loss: 0.2511 - val_accuracy: 0.9336 - 1s/epoch - 866us/step\n",
      "Epoch 100/200\n",
      "1500/1500 - 1s - loss: 0.3489 - accuracy: 0.9005 - val_loss: 0.2505 - val_accuracy: 0.9365 - 1s/epoch - 863us/step\n",
      "Epoch 101/200\n",
      "1500/1500 - 1s - loss: 0.3458 - accuracy: 0.9027 - val_loss: 0.2446 - val_accuracy: 0.9356 - 1s/epoch - 861us/step\n",
      "Epoch 102/200\n",
      "1500/1500 - 1s - loss: 0.3459 - accuracy: 0.9020 - val_loss: 0.2373 - val_accuracy: 0.9377 - 1s/epoch - 901us/step\n",
      "Epoch 103/200\n",
      "1500/1500 - 1s - loss: 0.3447 - accuracy: 0.9028 - val_loss: 0.2470 - val_accuracy: 0.9351 - 1s/epoch - 891us/step\n",
      "Epoch 104/200\n",
      "1500/1500 - 1s - loss: 0.3486 - accuracy: 0.9021 - val_loss: 0.2415 - val_accuracy: 0.9360 - 1s/epoch - 870us/step\n",
      "Epoch 105/200\n",
      "1500/1500 - 1s - loss: 0.3455 - accuracy: 0.9029 - val_loss: 0.2448 - val_accuracy: 0.9368 - 1s/epoch - 864us/step\n",
      "Epoch 106/200\n",
      "1500/1500 - 1s - loss: 0.3458 - accuracy: 0.9009 - val_loss: 0.2445 - val_accuracy: 0.9352 - 1s/epoch - 868us/step\n",
      "Epoch 107/200\n",
      "1500/1500 - 1s - loss: 0.3493 - accuracy: 0.9022 - val_loss: 0.2483 - val_accuracy: 0.9340 - 1s/epoch - 868us/step\n",
      "Epoch 108/200\n",
      "1500/1500 - 1s - loss: 0.3485 - accuracy: 0.9009 - val_loss: 0.2389 - val_accuracy: 0.9356 - 1s/epoch - 874us/step\n",
      "Epoch 109/200\n",
      "1500/1500 - 1s - loss: 0.3437 - accuracy: 0.9031 - val_loss: 0.2697 - val_accuracy: 0.9299 - 1s/epoch - 873us/step\n",
      "Epoch 110/200\n",
      "1500/1500 - 1s - loss: 0.3464 - accuracy: 0.9018 - val_loss: 0.2471 - val_accuracy: 0.9349 - 1s/epoch - 881us/step\n",
      "Epoch 111/200\n",
      "1500/1500 - 1s - loss: 0.3486 - accuracy: 0.9008 - val_loss: 0.2422 - val_accuracy: 0.9370 - 1s/epoch - 864us/step\n",
      "Epoch 112/200\n",
      "1500/1500 - 1s - loss: 0.3472 - accuracy: 0.9028 - val_loss: 0.2407 - val_accuracy: 0.9357 - 1s/epoch - 863us/step\n",
      "Epoch 113/200\n",
      "1500/1500 - 1s - loss: 0.3483 - accuracy: 0.9019 - val_loss: 0.2408 - val_accuracy: 0.9375 - 1s/epoch - 861us/step\n",
      "Epoch 114/200\n",
      "1500/1500 - 1s - loss: 0.3472 - accuracy: 0.9015 - val_loss: 0.2577 - val_accuracy: 0.9354 - 1s/epoch - 867us/step\n",
      "Epoch 115/200\n",
      "1500/1500 - 1s - loss: 0.3456 - accuracy: 0.9016 - val_loss: 0.2526 - val_accuracy: 0.9327 - 1s/epoch - 864us/step\n",
      "Epoch 116/200\n",
      "1500/1500 - 1s - loss: 0.3401 - accuracy: 0.9041 - val_loss: 0.2364 - val_accuracy: 0.9388 - 1s/epoch - 861us/step\n",
      "Epoch 117/200\n",
      "1500/1500 - 1s - loss: 0.3484 - accuracy: 0.9017 - val_loss: 0.2401 - val_accuracy: 0.9356 - 1s/epoch - 862us/step\n",
      "Epoch 118/200\n",
      "1500/1500 - 1s - loss: 0.3458 - accuracy: 0.9016 - val_loss: 0.2412 - val_accuracy: 0.9375 - 1s/epoch - 873us/step\n",
      "Epoch 119/200\n",
      "1500/1500 - 1s - loss: 0.3416 - accuracy: 0.9044 - val_loss: 0.2478 - val_accuracy: 0.9346 - 1s/epoch - 864us/step\n",
      "Epoch 120/200\n",
      "1500/1500 - 1s - loss: 0.3462 - accuracy: 0.9017 - val_loss: 0.2359 - val_accuracy: 0.9374 - 1s/epoch - 869us/step\n",
      "Epoch 121/200\n",
      "1500/1500 - 1s - loss: 0.3430 - accuracy: 0.9027 - val_loss: 0.2516 - val_accuracy: 0.9339 - 1s/epoch - 878us/step\n",
      "Epoch 122/200\n",
      "1500/1500 - 1s - loss: 0.3465 - accuracy: 0.9028 - val_loss: 0.2382 - val_accuracy: 0.9365 - 1s/epoch - 906us/step\n",
      "Epoch 123/200\n",
      "1500/1500 - 1s - loss: 0.3440 - accuracy: 0.9026 - val_loss: 0.2407 - val_accuracy: 0.9370 - 1s/epoch - 887us/step\n",
      "Epoch 124/200\n",
      "1500/1500 - 1s - loss: 0.3412 - accuracy: 0.9046 - val_loss: 0.2382 - val_accuracy: 0.9384 - 1s/epoch - 871us/step\n",
      "Epoch 125/200\n",
      "1500/1500 - 1s - loss: 0.3404 - accuracy: 0.9044 - val_loss: 0.2519 - val_accuracy: 0.9294 - 1s/epoch - 883us/step\n",
      "Epoch 126/200\n",
      "1500/1500 - 1s - loss: 0.3528 - accuracy: 0.8999 - val_loss: 0.2520 - val_accuracy: 0.9329 - 1s/epoch - 909us/step\n",
      "Epoch 127/200\n",
      "1500/1500 - 1s - loss: 0.3454 - accuracy: 0.9031 - val_loss: 0.2310 - val_accuracy: 0.9381 - 1s/epoch - 897us/step\n",
      "Epoch 128/200\n",
      "1500/1500 - 1s - loss: 0.3390 - accuracy: 0.9045 - val_loss: 0.2367 - val_accuracy: 0.9374 - 1s/epoch - 921us/step\n"
     ]
    },
    {
     "name": "stdout",
     "output_type": "stream",
     "text": [
      "Epoch 129/200\n",
      "1500/1500 - 1s - loss: 0.3424 - accuracy: 0.9025 - val_loss: 0.2426 - val_accuracy: 0.9351 - 1s/epoch - 922us/step\n",
      "Epoch 130/200\n",
      "1500/1500 - 1s - loss: 0.3416 - accuracy: 0.9027 - val_loss: 0.2463 - val_accuracy: 0.9345 - 1s/epoch - 903us/step\n",
      "Epoch 131/200\n",
      "1500/1500 - 1s - loss: 0.3465 - accuracy: 0.9023 - val_loss: 0.2416 - val_accuracy: 0.9358 - 1s/epoch - 901us/step\n",
      "Epoch 132/200\n",
      "1500/1500 - 1s - loss: 0.3432 - accuracy: 0.9039 - val_loss: 0.2482 - val_accuracy: 0.9342 - 1s/epoch - 874us/step\n",
      "Epoch 133/200\n",
      "1500/1500 - 1s - loss: 0.3412 - accuracy: 0.9041 - val_loss: 0.2423 - val_accuracy: 0.9369 - 1s/epoch - 868us/step\n",
      "Epoch 134/200\n",
      "1500/1500 - 1s - loss: 0.3408 - accuracy: 0.9045 - val_loss: 0.2515 - val_accuracy: 0.9323 - 1s/epoch - 868us/step\n",
      "Epoch 135/200\n",
      "1500/1500 - 1s - loss: 0.3409 - accuracy: 0.9049 - val_loss: 0.2413 - val_accuracy: 0.9353 - 1s/epoch - 920us/step\n",
      "Epoch 136/200\n",
      "1500/1500 - 1s - loss: 0.3465 - accuracy: 0.9012 - val_loss: 0.2385 - val_accuracy: 0.9366 - 1s/epoch - 883us/step\n",
      "Epoch 137/200\n",
      "1500/1500 - 1s - loss: 0.3397 - accuracy: 0.9055 - val_loss: 0.2438 - val_accuracy: 0.9352 - 1s/epoch - 871us/step\n",
      "Epoch 138/200\n",
      "1500/1500 - 1s - loss: 0.3411 - accuracy: 0.9043 - val_loss: 0.2409 - val_accuracy: 0.9355 - 1s/epoch - 906us/step\n",
      "Epoch 139/200\n",
      "1500/1500 - 1s - loss: 0.3453 - accuracy: 0.9021 - val_loss: 0.2469 - val_accuracy: 0.9341 - 1s/epoch - 899us/step\n",
      "Epoch 140/200\n",
      "1500/1500 - 1s - loss: 0.3386 - accuracy: 0.9051 - val_loss: 0.2426 - val_accuracy: 0.9355 - 1s/epoch - 904us/step\n",
      "Epoch 141/200\n",
      "1500/1500 - 1s - loss: 0.3410 - accuracy: 0.9035 - val_loss: 0.2464 - val_accuracy: 0.9327 - 1s/epoch - 868us/step\n",
      "Epoch 142/200\n",
      "1500/1500 - 1s - loss: 0.3386 - accuracy: 0.9049 - val_loss: 0.2400 - val_accuracy: 0.9352 - 1s/epoch - 871us/step\n",
      "Epoch 143/200\n",
      "1500/1500 - 1s - loss: 0.3390 - accuracy: 0.9042 - val_loss: 0.2549 - val_accuracy: 0.9330 - 1s/epoch - 865us/step\n",
      "Epoch 144/200\n",
      "1500/1500 - 1s - loss: 0.3418 - accuracy: 0.9043 - val_loss: 0.2476 - val_accuracy: 0.9349 - 1s/epoch - 883us/step\n",
      "Epoch 145/200\n",
      "1500/1500 - 1s - loss: 0.3403 - accuracy: 0.9053 - val_loss: 0.2346 - val_accuracy: 0.9392 - 1s/epoch - 867us/step\n",
      "Epoch 146/200\n",
      "1500/1500 - 1s - loss: 0.3411 - accuracy: 0.9054 - val_loss: 0.2471 - val_accuracy: 0.9317 - 1s/epoch - 860us/step\n",
      "Epoch 147/200\n",
      "1500/1500 - 1s - loss: 0.3397 - accuracy: 0.9035 - val_loss: 0.2403 - val_accuracy: 0.9352 - 1s/epoch - 882us/step\n",
      "Epoch 148/200\n",
      "1500/1500 - 1s - loss: 0.3455 - accuracy: 0.9031 - val_loss: 0.2440 - val_accuracy: 0.9353 - 1s/epoch - 888us/step\n",
      "Epoch 149/200\n",
      "1500/1500 - 1s - loss: 0.3376 - accuracy: 0.9053 - val_loss: 0.2419 - val_accuracy: 0.9349 - 1s/epoch - 893us/step\n",
      "Epoch 150/200\n",
      "1500/1500 - 1s - loss: 0.3384 - accuracy: 0.9056 - val_loss: 0.2351 - val_accuracy: 0.9383 - 1s/epoch - 876us/step\n",
      "Epoch 151/200\n",
      "1500/1500 - 1s - loss: 0.3426 - accuracy: 0.9030 - val_loss: 0.2499 - val_accuracy: 0.9350 - 1s/epoch - 873us/step\n",
      "Epoch 152/200\n",
      "1500/1500 - 1s - loss: 0.3378 - accuracy: 0.9036 - val_loss: 0.2485 - val_accuracy: 0.9358 - 1s/epoch - 873us/step\n",
      "Epoch 153/200\n",
      "1500/1500 - 1s - loss: 0.3423 - accuracy: 0.9018 - val_loss: 0.2452 - val_accuracy: 0.9352 - 1s/epoch - 866us/step\n",
      "Epoch 154/200\n",
      "1500/1500 - 1s - loss: 0.3327 - accuracy: 0.9067 - val_loss: 0.2369 - val_accuracy: 0.9373 - 1s/epoch - 866us/step\n",
      "Epoch 155/200\n",
      "1500/1500 - 1s - loss: 0.3421 - accuracy: 0.9034 - val_loss: 0.2568 - val_accuracy: 0.9346 - 1s/epoch - 871us/step\n",
      "Epoch 156/200\n",
      "1500/1500 - 1s - loss: 0.3366 - accuracy: 0.9046 - val_loss: 0.2439 - val_accuracy: 0.9350 - 1s/epoch - 869us/step\n",
      "Epoch 157/200\n",
      "1500/1500 - 1s - loss: 0.3372 - accuracy: 0.9047 - val_loss: 0.2478 - val_accuracy: 0.9342 - 1s/epoch - 863us/step\n",
      "Epoch 158/200\n",
      "1500/1500 - 1s - loss: 0.3397 - accuracy: 0.9047 - val_loss: 0.2336 - val_accuracy: 0.9373 - 1s/epoch - 874us/step\n",
      "Epoch 159/200\n",
      "1500/1500 - 1s - loss: 0.3403 - accuracy: 0.9031 - val_loss: 0.2489 - val_accuracy: 0.9325 - 1s/epoch - 931us/step\n",
      "Epoch 160/200\n",
      "1500/1500 - 1s - loss: 0.3354 - accuracy: 0.9058 - val_loss: 0.2430 - val_accuracy: 0.9361 - 1s/epoch - 866us/step\n",
      "Epoch 161/200\n",
      "1500/1500 - 1s - loss: 0.3396 - accuracy: 0.9061 - val_loss: 0.2475 - val_accuracy: 0.9358 - 1s/epoch - 881us/step\n",
      "Epoch 162/200\n",
      "1500/1500 - 1s - loss: 0.3383 - accuracy: 0.9040 - val_loss: 0.2464 - val_accuracy: 0.9358 - 1s/epoch - 872us/step\n",
      "Epoch 163/200\n",
      "1500/1500 - 1s - loss: 0.3350 - accuracy: 0.9055 - val_loss: 0.2389 - val_accuracy: 0.9348 - 1s/epoch - 868us/step\n",
      "Epoch 164/200\n",
      "1500/1500 - 1s - loss: 0.3359 - accuracy: 0.9065 - val_loss: 0.2428 - val_accuracy: 0.9362 - 1s/epoch - 868us/step\n",
      "Epoch 165/200\n",
      "1500/1500 - 1s - loss: 0.3317 - accuracy: 0.9082 - val_loss: 0.2373 - val_accuracy: 0.9373 - 1s/epoch - 862us/step\n",
      "Epoch 166/200\n",
      "1500/1500 - 1s - loss: 0.3389 - accuracy: 0.9047 - val_loss: 0.2426 - val_accuracy: 0.9366 - 1s/epoch - 860us/step\n",
      "Epoch 167/200\n",
      "1500/1500 - 1s - loss: 0.3334 - accuracy: 0.9060 - val_loss: 0.2528 - val_accuracy: 0.9331 - 1s/epoch - 867us/step\n",
      "Epoch 168/200\n",
      "1500/1500 - 1s - loss: 0.3326 - accuracy: 0.9052 - val_loss: 0.2479 - val_accuracy: 0.9336 - 1s/epoch - 865us/step\n",
      "Epoch 169/200\n",
      "1500/1500 - 1s - loss: 0.3352 - accuracy: 0.9052 - val_loss: 0.2602 - val_accuracy: 0.9303 - 1s/epoch - 864us/step\n",
      "Epoch 170/200\n",
      "1500/1500 - 1s - loss: 0.3366 - accuracy: 0.9056 - val_loss: 0.2446 - val_accuracy: 0.9355 - 1s/epoch - 864us/step\n",
      "Epoch 171/200\n",
      "1500/1500 - 1s - loss: 0.3388 - accuracy: 0.9044 - val_loss: 0.2392 - val_accuracy: 0.9358 - 1s/epoch - 865us/step\n",
      "Epoch 172/200\n",
      "1500/1500 - 1s - loss: 0.3419 - accuracy: 0.9035 - val_loss: 0.2392 - val_accuracy: 0.9362 - 1s/epoch - 872us/step\n",
      "Epoch 173/200\n",
      "1500/1500 - 1s - loss: 0.3326 - accuracy: 0.9075 - val_loss: 0.2379 - val_accuracy: 0.9365 - 1s/epoch - 873us/step\n",
      "Epoch 174/200\n",
      "1500/1500 - 1s - loss: 0.3344 - accuracy: 0.9063 - val_loss: 0.2416 - val_accuracy: 0.9358 - 1s/epoch - 868us/step\n",
      "Epoch 175/200\n",
      "1500/1500 - 1s - loss: 0.3396 - accuracy: 0.9056 - val_loss: 0.2421 - val_accuracy: 0.9353 - 1s/epoch - 870us/step\n",
      "Epoch 176/200\n",
      "1500/1500 - 1s - loss: 0.3365 - accuracy: 0.9049 - val_loss: 0.2402 - val_accuracy: 0.9354 - 1s/epoch - 865us/step\n",
      "Epoch 177/200\n",
      "1500/1500 - 1s - loss: 0.3362 - accuracy: 0.9060 - val_loss: 0.2546 - val_accuracy: 0.9327 - 1s/epoch - 898us/step\n",
      "Epoch 178/200\n",
      "1500/1500 - 1s - loss: 0.3332 - accuracy: 0.9070 - val_loss: 0.2345 - val_accuracy: 0.9384 - 1s/epoch - 868us/step\n",
      "Epoch 179/200\n",
      "1500/1500 - 1s - loss: 0.3344 - accuracy: 0.9057 - val_loss: 0.2463 - val_accuracy: 0.9336 - 1s/epoch - 868us/step\n",
      "Epoch 180/200\n",
      "1500/1500 - 1s - loss: 0.3336 - accuracy: 0.9057 - val_loss: 0.2445 - val_accuracy: 0.9356 - 1s/epoch - 870us/step\n",
      "Epoch 181/200\n",
      "1500/1500 - 1s - loss: 0.3342 - accuracy: 0.9059 - val_loss: 0.2454 - val_accuracy: 0.9357 - 1s/epoch - 878us/step\n",
      "Epoch 182/200\n",
      "1500/1500 - 1s - loss: 0.3365 - accuracy: 0.9051 - val_loss: 0.2498 - val_accuracy: 0.9347 - 1s/epoch - 864us/step\n",
      "Epoch 183/200\n",
      "1500/1500 - 1s - loss: 0.3369 - accuracy: 0.9058 - val_loss: 0.2400 - val_accuracy: 0.9368 - 1s/epoch - 864us/step\n",
      "Epoch 184/200\n",
      "1500/1500 - 1s - loss: 0.3335 - accuracy: 0.9062 - val_loss: 0.2643 - val_accuracy: 0.9327 - 1s/epoch - 871us/step\n",
      "Epoch 185/200\n",
      "1500/1500 - 1s - loss: 0.3350 - accuracy: 0.9071 - val_loss: 0.2406 - val_accuracy: 0.9379 - 1s/epoch - 867us/step\n",
      "Epoch 186/200\n",
      "1500/1500 - 1s - loss: 0.3338 - accuracy: 0.9064 - val_loss: 0.2393 - val_accuracy: 0.9362 - 1s/epoch - 914us/step\n",
      "Epoch 187/200\n",
      "1500/1500 - 1s - loss: 0.3382 - accuracy: 0.9061 - val_loss: 0.2425 - val_accuracy: 0.9342 - 1s/epoch - 866us/step\n",
      "Epoch 188/200\n",
      "1500/1500 - 1s - loss: 0.3392 - accuracy: 0.9048 - val_loss: 0.2433 - val_accuracy: 0.9362 - 1s/epoch - 890us/step\n",
      "Epoch 189/200\n",
      "1500/1500 - 1s - loss: 0.3391 - accuracy: 0.9065 - val_loss: 0.2461 - val_accuracy: 0.9327 - 1s/epoch - 898us/step\n",
      "Epoch 190/200\n",
      "1500/1500 - 1s - loss: 0.3347 - accuracy: 0.9060 - val_loss: 0.2489 - val_accuracy: 0.9369 - 1s/epoch - 897us/step\n",
      "Epoch 191/200\n",
      "1500/1500 - 1s - loss: 0.3365 - accuracy: 0.9068 - val_loss: 0.2441 - val_accuracy: 0.9364 - 1s/epoch - 878us/step\n",
      "Epoch 192/200\n",
      "1500/1500 - 1s - loss: 0.3367 - accuracy: 0.9068 - val_loss: 0.2363 - val_accuracy: 0.9371 - 1s/epoch - 885us/step\n"
     ]
    },
    {
     "name": "stdout",
     "output_type": "stream",
     "text": [
      "Epoch 193/200\n",
      "1500/1500 - 1s - loss: 0.3397 - accuracy: 0.9057 - val_loss: 0.2424 - val_accuracy: 0.9354 - 1s/epoch - 878us/step\n",
      "Epoch 194/200\n",
      "1500/1500 - 1s - loss: 0.3354 - accuracy: 0.9055 - val_loss: 0.2354 - val_accuracy: 0.9378 - 1s/epoch - 928us/step\n",
      "Epoch 195/200\n",
      "1500/1500 - 1s - loss: 0.3278 - accuracy: 0.9079 - val_loss: 0.2434 - val_accuracy: 0.9350 - 1s/epoch - 920us/step\n",
      "Epoch 196/200\n",
      "1500/1500 - 1s - loss: 0.3338 - accuracy: 0.9071 - val_loss: 0.2469 - val_accuracy: 0.9354 - 1s/epoch - 881us/step\n",
      "Epoch 197/200\n",
      "1500/1500 - 1s - loss: 0.3296 - accuracy: 0.9082 - val_loss: 0.2515 - val_accuracy: 0.9327 - 1s/epoch - 896us/step\n",
      "Epoch 198/200\n",
      "1500/1500 - 1s - loss: 0.3363 - accuracy: 0.9047 - val_loss: 0.2488 - val_accuracy: 0.9325 - 1s/epoch - 894us/step\n",
      "Epoch 199/200\n",
      "1500/1500 - 1s - loss: 0.3368 - accuracy: 0.9064 - val_loss: 0.2407 - val_accuracy: 0.9346 - 1s/epoch - 890us/step\n",
      "Epoch 200/200\n",
      "1500/1500 - 1s - loss: 0.3393 - accuracy: 0.9049 - val_loss: 0.2555 - val_accuracy: 0.9347 - 1s/epoch - 905us/step\n"
     ]
    }
   ],
   "source": [
    "# will take a while\n",
    "history_dropoutmnist = model.fit(x_train, y_tr_one_hot, epochs=200, batch_size= 32, validation_split = 0.2, verbose =2)"
   ]
  },
  {
   "cell_type": "markdown",
   "metadata": {
    "cell_style": "split",
    "slideshow": {
     "slide_type": "slide"
    }
   },
   "source": [
    "Accuracy on train set will be lower in any given cycle:\n",
    "- some activation killed randomly on training.\n",
    "\n",
    "Performance on validation will be high:\n",
    "- uses full network with learned weights for validation"
   ]
  },
  {
   "cell_type": "markdown",
   "metadata": {
    "cell_style": "split",
    "slideshow": {
     "slide_type": "slide"
    }
   },
   "source": [
    "Not overtraining despite high model capacity:\n",
    "- many hidden layers"
   ]
  },
  {
   "cell_type": "code",
   "execution_count": 27,
   "metadata": {
    "cell_style": "split",
    "slideshow": {
     "slide_type": "fragment"
    }
   },
   "outputs": [
    {
     "data": {
      "image/png": "[encoded data removed]",
      "text/plain": [
       "<Figure size 640x480 with 1 Axes>"
      ]
     },
     "metadata": {},
     "output_type": "display_data"
    }
   ],
   "source": [
    "train_dropoutmnist_history = pd.DataFrame(history_dropoutmnist.history)\n",
    "train_dropoutmnist_history.index.name = 'epochs'\n",
    "\n",
    "col_list = ['loss', 'val_loss']\n",
    "train_dropoutmnist_history[col_list].plot()\n",
    "plt.ylabel('Categorical cross entropy')\n",
    "plt.title('Training loss history')\n",
    "plt.show()"
   ]
  },
  {
   "cell_type": "code",
   "execution_count": 28,
   "metadata": {
    "cell_style": "split",
    "slideshow": {
     "slide_type": "slide"
    }
   },
   "outputs": [
    {
     "data": {
      "image/png": "[encoded data removed]",
      "text/plain": [
       "<Figure size 640x480 with 1 Axes>"
      ]
     },
     "metadata": {},
     "output_type": "display_data"
    }
   ],
   "source": [
    "col_list = ['accuracy', 'val_accuracy']\n",
    "train_dropoutmnist_history[col_list].plot()\n",
    "plt.ylabel('Accuracy')\n",
    "plt.title('Training loss history')\n",
    "plt.show()"
   ]
  },
  {
   "cell_type": "markdown",
   "metadata": {
    "cell_style": "split",
    "slideshow": {
     "slide_type": "fragment"
    }
   },
   "source": [
    "Evaluate on test set."
   ]
  },
  {
   "cell_type": "code",
   "execution_count": 29,
   "metadata": {
    "cell_style": "split",
    "slideshow": {
     "slide_type": "fragment"
    }
   },
   "outputs": [
    {
     "data": {
      "text/plain": [
       "[0.2590801417827606, 0.9376999735832214]"
      ]
     },
     "execution_count": 29,
     "metadata": {},
     "output_type": "execute_result"
    }
   ],
   "source": [
    "model.evaluate(x_test, y_tt_one_hot, verbose =0)"
   ]
  },
  {
   "cell_type": "markdown",
   "metadata": {
    "slideshow": {
     "slide_type": "slide"
    }
   },
   "source": [
    "#### Dropout regularization in conjunction with L2:\n",
    "\n",
    "- can be used to train very deep networks\n",
    "- model complex relationships without overfitting\n",
    "- works best in these cases with a lot of data"
   ]
  },
  {
   "cell_type": "markdown",
   "metadata": {
    "slideshow": {
     "slide_type": "slide"
    }
   },
   "source": [
    "Next up:\n",
    "- doing much better with a more suitable network architecture\n",
    "- Convolutional Neural Networks (CNNs)"
   ]
  },
  {
   "cell_type": "markdown",
   "metadata": {},
   "source": [
    "## HyperParameter Tuning"
   ]
  },
  {
   "cell_type": "markdown",
   "metadata": {},
   "source": [
    "```python\n",
    "from sklearn.model_selection import GridSearchCV\n",
    "from tensorflow.keras.models import Sequential\n",
    "from tensorflow.keras.layers import Dense\n",
    "from tensorflow.keras.wrappers.scikit_learn import KerasClassifier\n",
    "\n",
    "# Define a function to create the Keras model\n",
    "def create_model(optimizer='adam', units=32, activation='relu'):\n",
    "    model = Sequential()\n",
    "    model.add(Dense(units, activation=activation, input_dim=input_dim))\n",
    "    model.add(Dense(output_dim, activation='softmax'))\n",
    "    model.compile(optimizer=optimizer, loss='categorical_crossentropy', metrics=['accuracy'])\n",
    "    return model\n",
    "\n",
    "# Create a KerasClassifier based on the create_model function\n",
    "model = KerasClassifier(build_fn=create_model)\n",
    "\n",
    "# Define a parameter grid for hyperparameter tuning\n",
    "param_grid = {\n",
    "    'units': [32, 64, 128],\n",
    "    'activation': ['relu', 'tanh'],\n",
    "    'optimizer': ['adam', 'sgd'],\n",
    "}\n",
    "\n",
    "# Perform grid search with cross-validation\n",
    "grid_search = GridSearchCV(estimator=model, param_grid=param_grid, scoring='accuracy', cv=3)\n",
    "grid_result = grid_search.fit(X_train, y_train)\n",
    "\n",
    "# Print the best hyperparameters and their performance\n",
    "print(\"Best Parameters: \", grid_result.best_params_)\n",
    "print(\"Best Accuracy: \", grid_result.best_score_)\n",
    "```\n"
   ]
  },
  {
   "cell_type": "code",
   "execution_count": null,
   "metadata": {},
   "outputs": [],
   "source": []
  }
 ],
 "metadata": {
  "colab": {
   "collapsed_sections": [],
   "name": "intro-to-keras.ipynb",
   "provenance": []
  },
  "kernelspec": {
   "display_name": "dplearn",
   "language": "python",
   "name": "dplearn"
  },
  "language_info": {
   "codemirror_mode": {
    "name": "ipython",
    "version": 3
   },
   "file_extension": ".py",
   "mimetype": "text/x-python",
   "name": "python",
   "nbconvert_exporter": "python",
   "pygments_lexer": "ipython3",
   "version": "3.10.10"
  }
 },
 "nbformat": 4,
 "nbformat_minor": 4
}
